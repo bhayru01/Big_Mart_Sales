{
 "cells": [
  {
   "cell_type": "markdown",
   "metadata": {},
   "source": [
    "### Importing Libraries"
   ]
  },
  {
   "cell_type": "code",
   "execution_count": null,
   "metadata": {},
   "outputs": [],
   "source": [
    "import pandas as pd\n",
    "import numpy as np\n",
    "import statsmodels.api as sm\n",
    "import matplotlib.pyplot as plt\n",
    "from sklearn.linear_model import LinearRegression\n",
    "import seaborn as sns\n",
    "sns.set()"
   ]
  },
  {
   "cell_type": "markdown",
   "metadata": {},
   "source": [
    "### Importing Data"
   ]
  },
  {
   "cell_type": "code",
   "execution_count": 28,
   "metadata": {},
   "outputs": [
    {
     "data": {
      "text/plain": [
       "(14204, 13)"
      ]
     },
     "execution_count": 28,
     "metadata": {},
     "output_type": "execute_result"
    }
   ],
   "source": [
    "train = pd.read_csv('train.csv')\n",
    "test = pd.read_csv('test.csv')\n",
    "\n",
    "#Combining both train and test data sets into one, to perform feature engineering and then divide them later again.\n",
    "#Adding ‘source’ column specifying where each observation belongs.\n",
    "train['source'] = 'train'\n",
    "test['source'] = 'test'\n",
    "\n",
    "data = pd.concat([train, test], sort = False)\n",
    "data.shape"
   ]
  },
  {
   "cell_type": "markdown",
   "metadata": {},
   "source": [
    "### Data Exploration"
   ]
  },
  {
   "cell_type": "markdown",
   "metadata": {},
   "source": [
    "##### 1. Checking which columns contain missing values."
   ]
  },
  {
   "cell_type": "code",
   "execution_count": 30,
   "metadata": {},
   "outputs": [
    {
     "data": {
      "text/plain": [
       "Item_Identifier                 0\n",
       "Item_Weight                  2439\n",
       "Item_Fat_Content                0\n",
       "Item_Visibility                 0\n",
       "Item_Type                       0\n",
       "Item_MRP                        0\n",
       "Outlet_Identifier               0\n",
       "Outlet_Establishment_Year       0\n",
       "Outlet_Size                  4016\n",
       "Outlet_Location_Type            0\n",
       "Outlet_Type                     0\n",
       "Item_Outlet_Sales            5681\n",
       "source                          0\n",
       "dtype: int64"
      ]
     },
     "execution_count": 30,
     "metadata": {},
     "output_type": "execute_result"
    }
   ],
   "source": [
    "data.isnull().sum()"
   ]
  },
  {
   "cell_type": "markdown",
   "metadata": {},
   "source": [
    "##### 2. Checking basic statistics for numerical variables."
   ]
  },
  {
   "cell_type": "code",
   "execution_count": 31,
   "metadata": {},
   "outputs": [
    {
     "data": {
      "text/html": [
       "<div>\n",
       "<style scoped>\n",
       "    .dataframe tbody tr th:only-of-type {\n",
       "        vertical-align: middle;\n",
       "    }\n",
       "\n",
       "    .dataframe tbody tr th {\n",
       "        vertical-align: top;\n",
       "    }\n",
       "\n",
       "    .dataframe thead th {\n",
       "        text-align: right;\n",
       "    }\n",
       "</style>\n",
       "<table border=\"1\" class=\"dataframe\">\n",
       "  <thead>\n",
       "    <tr style=\"text-align: right;\">\n",
       "      <th></th>\n",
       "      <th>Item_Weight</th>\n",
       "      <th>Item_Visibility</th>\n",
       "      <th>Item_MRP</th>\n",
       "      <th>Outlet_Establishment_Year</th>\n",
       "      <th>Item_Outlet_Sales</th>\n",
       "    </tr>\n",
       "  </thead>\n",
       "  <tbody>\n",
       "    <tr>\n",
       "      <td>count</td>\n",
       "      <td>11765.000000</td>\n",
       "      <td>14204.000000</td>\n",
       "      <td>14204.000000</td>\n",
       "      <td>14204.000000</td>\n",
       "      <td>8523.000000</td>\n",
       "    </tr>\n",
       "    <tr>\n",
       "      <td>mean</td>\n",
       "      <td>12.792854</td>\n",
       "      <td>0.065953</td>\n",
       "      <td>141.004977</td>\n",
       "      <td>1997.830681</td>\n",
       "      <td>2181.288914</td>\n",
       "    </tr>\n",
       "    <tr>\n",
       "      <td>std</td>\n",
       "      <td>4.652502</td>\n",
       "      <td>0.051459</td>\n",
       "      <td>62.086938</td>\n",
       "      <td>8.371664</td>\n",
       "      <td>1706.499616</td>\n",
       "    </tr>\n",
       "    <tr>\n",
       "      <td>min</td>\n",
       "      <td>4.555000</td>\n",
       "      <td>0.000000</td>\n",
       "      <td>31.290000</td>\n",
       "      <td>1985.000000</td>\n",
       "      <td>33.290000</td>\n",
       "    </tr>\n",
       "    <tr>\n",
       "      <td>25%</td>\n",
       "      <td>8.710000</td>\n",
       "      <td>0.027036</td>\n",
       "      <td>94.012000</td>\n",
       "      <td>1987.000000</td>\n",
       "      <td>834.247400</td>\n",
       "    </tr>\n",
       "    <tr>\n",
       "      <td>50%</td>\n",
       "      <td>12.600000</td>\n",
       "      <td>0.054021</td>\n",
       "      <td>142.247000</td>\n",
       "      <td>1999.000000</td>\n",
       "      <td>1794.331000</td>\n",
       "    </tr>\n",
       "    <tr>\n",
       "      <td>75%</td>\n",
       "      <td>16.750000</td>\n",
       "      <td>0.094037</td>\n",
       "      <td>185.855600</td>\n",
       "      <td>2004.000000</td>\n",
       "      <td>3101.296400</td>\n",
       "    </tr>\n",
       "    <tr>\n",
       "      <td>max</td>\n",
       "      <td>21.350000</td>\n",
       "      <td>0.328391</td>\n",
       "      <td>266.888400</td>\n",
       "      <td>2009.000000</td>\n",
       "      <td>13086.964800</td>\n",
       "    </tr>\n",
       "  </tbody>\n",
       "</table>\n",
       "</div>"
      ],
      "text/plain": [
       "        Item_Weight  Item_Visibility      Item_MRP  Outlet_Establishment_Year  \\\n",
       "count  11765.000000     14204.000000  14204.000000               14204.000000   \n",
       "mean      12.792854         0.065953    141.004977                1997.830681   \n",
       "std        4.652502         0.051459     62.086938                   8.371664   \n",
       "min        4.555000         0.000000     31.290000                1985.000000   \n",
       "25%        8.710000         0.027036     94.012000                1987.000000   \n",
       "50%       12.600000         0.054021    142.247000                1999.000000   \n",
       "75%       16.750000         0.094037    185.855600                2004.000000   \n",
       "max       21.350000         0.328391    266.888400                2009.000000   \n",
       "\n",
       "       Item_Outlet_Sales  \n",
       "count        8523.000000  \n",
       "mean         2181.288914  \n",
       "std          1706.499616  \n",
       "min            33.290000  \n",
       "25%           834.247400  \n",
       "50%          1794.331000  \n",
       "75%          3101.296400  \n",
       "max         13086.964800  "
      ]
     },
     "execution_count": 31,
     "metadata": {},
     "output_type": "execute_result"
    }
   ],
   "source": [
    "data.describe()"
   ]
  },
  {
   "cell_type": "markdown",
   "metadata": {},
   "source": [
    "NOTE: Item_Visibility has a min value of zero. \n",
    "Strange, when a product is being sold in a store, the visibility cannot be 0"
   ]
  },
  {
   "cell_type": "markdown",
   "metadata": {},
   "source": [
    "##### 3. Checking the number of unique values in each feature."
   ]
  },
  {
   "cell_type": "code",
   "execution_count": 41,
   "metadata": {},
   "outputs": [
    {
     "data": {
      "text/plain": [
       "Item_Identifier               1559\n",
       "Item_Weight                    416\n",
       "Item_Fat_Content                 5\n",
       "Item_Visibility              13006\n",
       "Item_Type                       16\n",
       "Item_MRP                      8052\n",
       "Outlet_Identifier               10\n",
       "Outlet_Establishment_Year        9\n",
       "Outlet_Size                      4\n",
       "Outlet_Location_Type             3\n",
       "Outlet_Type                      4\n",
       "Item_Outlet_Sales             3494\n",
       "source                           2\n",
       "dtype: int64"
      ]
     },
     "execution_count": 41,
     "metadata": {},
     "output_type": "execute_result"
    }
   ],
   "source": [
    "data.apply(lambda x: len(x.unique()))"
   ]
  },
  {
   "cell_type": "markdown",
   "metadata": {},
   "source": [
    "NOTE: 1559 different products with 10 different stores"
   ]
  },
  {
   "cell_type": "markdown",
   "metadata": {},
   "source": [
    "##### 4. Getting the names of categorical and numerical columns"
   ]
  },
  {
   "cell_type": "code",
   "execution_count": 54,
   "metadata": {},
   "outputs": [],
   "source": [
    "# Categorical column names\n",
    "categorical_columns = [col for col in data.columns if data[col].dtype == 'object']\n",
    "#Excluding ID columns and source column\n",
    "categorical_columns = [col for col in categorical_columns if col not in ['Item_Identifier', 'Outlet_Identifier', 'source']]\n",
    "\n",
    "# Numerical column names\n",
    "numerical_columns = [col for col in data.columns if data[col].dtype != 'object']"
   ]
  },
  {
   "cell_type": "markdown",
   "metadata": {},
   "source": [
    "##### 5. Checking the frequencies of each categorical feature"
   ]
  },
  {
   "cell_type": "code",
   "execution_count": 64,
   "metadata": {},
   "outputs": [
    {
     "name": "stdout",
     "output_type": "stream",
     "text": [
      "FREQUENCY OF CATEGORIES FOR EACH CATEGORICAL FEATURE:\n",
      "\n",
      "-------------------------------------------\n",
      "Low Fat    8485\n",
      "Regular    4824\n",
      "LF          522\n",
      "reg         195\n",
      "low fat     178\n",
      "Name: Item_Fat_Content, dtype: int64\n",
      "-------------------------------------------\n",
      "Fruits and Vegetables    2013\n",
      "Snack Foods              1989\n",
      "Household                1548\n",
      "Frozen Foods             1426\n",
      "Dairy                    1136\n",
      "Baking Goods             1086\n",
      "Canned                   1084\n",
      "Health and Hygiene        858\n",
      "Meat                      736\n",
      "Soft Drinks               726\n",
      "Breads                    416\n",
      "Hard Drinks               362\n",
      "Others                    280\n",
      "Starchy Foods             269\n",
      "Breakfast                 186\n",
      "Seafood                    89\n",
      "Name: Item_Type, dtype: int64\n",
      "-------------------------------------------\n",
      "Medium    4655\n",
      "Small     3980\n",
      "High      1553\n",
      "Name: Outlet_Size, dtype: int64\n",
      "-------------------------------------------\n",
      "Tier 3    5583\n",
      "Tier 2    4641\n",
      "Tier 1    3980\n",
      "Name: Outlet_Location_Type, dtype: int64\n",
      "-------------------------------------------\n",
      "Supermarket Type1    9294\n",
      "Grocery Store        1805\n",
      "Supermarket Type3    1559\n",
      "Supermarket Type2    1546\n",
      "Name: Outlet_Type, dtype: int64\n",
      "-------------------------------------------\n"
     ]
    }
   ],
   "source": [
    "print('FREQUENCY OF CATEGORIES FOR EACH CATEGORICAL FEATURE:\\n')\n",
    "print('-------------------------------------------')\n",
    "for col in categorical_columns:\n",
    "    print(data[col].value_counts())\n",
    "    print('-------------------------------------------')"
   ]
  },
  {
   "cell_type": "markdown",
   "metadata": {},
   "source": [
    "NOTES:\n",
    "1. Item_Fat_Content: ‘Low Fat’ values mis-coded as ‘low fat’ and ‘LF’ and ‘Regular’ mis-coded with 'reg'\n",
    "2. Item_Type: Some categories can be combined"
   ]
  },
  {
   "cell_type": "markdown",
   "metadata": {},
   "source": [
    "### Data Cleaning"
   ]
  },
  {
   "cell_type": "markdown",
   "metadata": {},
   "source": [
    "##### 1. Imputing Missing Values in 'Item_Weight' and 'Outlet_Size' features"
   ]
  },
  {
   "cell_type": "code",
   "execution_count": 268,
   "metadata": {},
   "outputs": [
    {
     "data": {
      "text/plain": [
       "Item_Identifier              0\n",
       "Item_Weight                  0\n",
       "Item_Fat_Content             0\n",
       "Item_Visibility              0\n",
       "Item_Type                    0\n",
       "Item_MRP                     0\n",
       "Outlet_Identifier            0\n",
       "Outlet_Establishment_Year    0\n",
       "Outlet_Size                  0\n",
       "Outlet_Location_Type         0\n",
       "Outlet_Type                  0\n",
       "source                       0\n",
       "dtype: int64"
      ]
     },
     "execution_count": 268,
     "metadata": {},
     "output_type": "execute_result"
    }
   ],
   "source": [
    "X = data.drop('Item_Outlet_Sales', axis = 1)\n",
    "y = data['Item_Outlet_Sales']\n",
    "\n",
    "from sklearn.impute import SimpleImputer\n",
    "\n",
    "imputer = SimpleImputer(strategy = 'most_frequent')\n",
    "X_imputed = pd.DataFrame(imputer.fit_transform(X))\n",
    "\n",
    "#Imputation removes column names, putting them back\n",
    "X_imputed.columns = X.columns\n",
    "\n",
    "#Imputation removes indexes, putting them back\n",
    "X_imputed.index = X.index\n",
    "\n",
    "#Making sure that there are no missing values.\n",
    "X_imputed.isnull().sum()"
   ]
  },
  {
   "cell_type": "markdown",
   "metadata": {},
   "source": [
    "##### 2. Removing Outliers"
   ]
  },
  {
   "cell_type": "code",
   "execution_count": 95,
   "metadata": {},
   "outputs": [
    {
     "name": "stdout",
     "output_type": "stream",
     "text": [
      "['Item_Weight', 'Item_Visibility', 'Item_MRP', 'Outlet_Establishment_Year']\n"
     ]
    }
   ],
   "source": [
    "# All numerical columns without y\n",
    "print(numerical_columns[:-1])\n",
    "\n",
    "#Deciding lower and upper bound for outliers\n",
    "lower_bound = 0.1\n",
    "upper_bound = 0.95"
   ]
  },
  {
   "cell_type": "markdown",
   "metadata": {},
   "source": [
    "##### 2.1. Item_Weight column"
   ]
  },
  {
   "cell_type": "code",
   "execution_count": 270,
   "metadata": {},
   "outputs": [
    {
     "data": {
      "image/png": "[encoded data removed]",
      "text/plain": [
       "<Figure size 432x288 with 1 Axes>"
      ]
     },
     "metadata": {},
     "output_type": "display_data"
    },
    {
     "data": {
      "text/plain": [
       "0.10    6.92\n",
       "0.95    20.1\n",
       "Name: Item_Weight, dtype: object"
      ]
     },
     "execution_count": 270,
     "metadata": {},
     "output_type": "execute_result"
    }
   ],
   "source": [
    "plt.hist(X_imputed.Item_Weight)\n",
    "plt.title('Item_Weight')\n",
    "plt.show()\n",
    "res = X_imputed.Item_Weight.quantile([lower_bound, upper_bound])\n",
    "res"
   ]
  },
  {
   "cell_type": "markdown",
   "metadata": {},
   "source": [
    "NOTE: Getting values anything more than 6.92  "
   ]
  },
  {
   "cell_type": "code",
   "execution_count": 271,
   "metadata": {},
   "outputs": [
    {
     "name": "stdout",
     "output_type": "stream",
     "text": [
      "Length Before: 14204\n",
      "Length After: 12772\n"
     ]
    }
   ],
   "source": [
    "print('Length Before:', len(X_imputed))\n",
    "\n",
    "#Removing Outliers\n",
    "X_imputed_out_1 = X_imputed[X_imputed.Item_Weight.values > res[lower_bound]]\n",
    "\n",
    "print('Length After:', len(X_imputed_out_1))"
   ]
  },
  {
   "cell_type": "code",
   "execution_count": 273,
   "metadata": {},
   "outputs": [
    {
     "data": {
      "image/png": "[encoded data removed]",
      "text/plain": [
       "<Figure size 432x288 with 1 Axes>"
      ]
     },
     "metadata": {},
     "output_type": "display_data"
    }
   ],
   "source": [
    "plt.hist(X_imputed_out_1.Item_Weight)\n",
    "plt.title('Item_Weight after outliers')\n",
    "plt.show()"
   ]
  },
  {
   "cell_type": "markdown",
   "metadata": {},
   "source": [
    "##### 2.2. Item_Visibility column"
   ]
  },
  {
   "cell_type": "code",
   "execution_count": 274,
   "metadata": {},
   "outputs": [
    {
     "data": {
      "image/png": "[encoded data removed]",
      "text/plain": [
       "<Figure size 432x288 with 1 Axes>"
      ]
     },
     "metadata": {},
     "output_type": "display_data"
    }
   ],
   "source": [
    "plt.hist(X_imputed_out_1.Item_Visibility)\n",
    "plt.title('Item_Visibility')\n",
    "plt.show()"
   ]
  },
  {
   "cell_type": "markdown",
   "metadata": {},
   "source": [
    "##### Replacing 0 values with the mean of it"
   ]
  },
  {
   "cell_type": "code",
   "execution_count": 275,
   "metadata": {},
   "outputs": [
    {
     "name": "stderr",
     "output_type": "stream",
     "text": [
      "/Users/berayhayrulah/opt/anaconda3/lib/python3.7/site-packages/ipykernel_launcher.py:3: SettingWithCopyWarning: \n",
      "A value is trying to be set on a copy of a slice from a DataFrame.\n",
      "Try using .loc[row_indexer,col_indexer] = value instead\n",
      "\n",
      "See the caveats in the documentation: http://pandas.pydata.org/pandas-docs/stable/user_guide/indexing.html#returning-a-view-versus-a-copy\n",
      "  This is separate from the ipykernel package so we can avoid doing imports until\n"
     ]
    }
   ],
   "source": [
    "Item_Visibility_mean_value = X_imputed_out_1.Item_Visibility.mean()\n",
    "Item_Visibility = X_imputed_out_1.Item_Visibility.replace(0, Item_Visibility_mean_value)\n",
    "X_imputed_out_1['Item_Visibility'] = Item_Visibility"
   ]
  },
  {
   "cell_type": "markdown",
   "metadata": {},
   "source": [
    "##### 2.3. Item_MRP column"
   ]
  },
  {
   "cell_type": "code",
   "execution_count": 277,
   "metadata": {},
   "outputs": [
    {
     "data": {
      "image/png": "[encoded data removed]",
      "text/plain": [
       "<Figure size 432x288 with 1 Axes>"
      ]
     },
     "metadata": {},
     "output_type": "display_data"
    },
    {
     "data": {
      "text/plain": [
       "0.10    52.8956\n",
       "0.95    249.009\n",
       "Name: Item_MRP, dtype: object"
      ]
     },
     "execution_count": 277,
     "metadata": {},
     "output_type": "execute_result"
    }
   ],
   "source": [
    "plt.hist(X_imputed_out_1.Item_MRP)\n",
    "plt.title('Item_MRP')\n",
    "plt.show()\n",
    "\n",
    "res2 = X_imputed_out_1.Item_MRP.quantile([lower_bound, upper_bound])\n",
    "res2"
   ]
  },
  {
   "cell_type": "markdown",
   "metadata": {},
   "source": [
    "NOTE: Getting values more than 52.8956 and less than 249.009"
   ]
  },
  {
   "cell_type": "code",
   "execution_count": 278,
   "metadata": {},
   "outputs": [
    {
     "name": "stdout",
     "output_type": "stream",
     "text": [
      "Length Before: 12772\n",
      "Length After: 10855\n"
     ]
    }
   ],
   "source": [
    "print('Length Before:', len(X_imputed_out_1))\n",
    "\n",
    "#Removing Outliers\n",
    "X_imputed_out_2 = X_imputed_out_1[(X_imputed_out_1.Item_MRP.values > res2[lower_bound]) & (X_imputed_out_1.Item_MRP.values < res2[upper_bound])]\n",
    "\n",
    "print('Length After:', len(X_imputed_out_2))"
   ]
  },
  {
   "cell_type": "code",
   "execution_count": 279,
   "metadata": {},
   "outputs": [
    {
     "data": {
      "image/png": "[encoded data removed]",
      "text/plain": [
       "<Figure size 432x288 with 1 Axes>"
      ]
     },
     "metadata": {},
     "output_type": "display_data"
    }
   ],
   "source": [
    "plt.hist(X_imputed_out_2.Item_MRP)\n",
    "plt.title('Item_MRP after outliers')\n",
    "plt.show()"
   ]
  },
  {
   "cell_type": "markdown",
   "metadata": {},
   "source": [
    "NOTE: Looking more like Normaly distributed"
   ]
  },
  {
   "cell_type": "markdown",
   "metadata": {},
   "source": [
    "##### 2.4. Outlet_Establishment_Year column"
   ]
  },
  {
   "cell_type": "code",
   "execution_count": 280,
   "metadata": {},
   "outputs": [
    {
     "data": {
      "image/png": "[encoded data removed]",
      "text/plain": [
       "<Figure size 432x288 with 1 Axes>"
      ]
     },
     "metadata": {},
     "output_type": "display_data"
    },
    {
     "data": {
      "text/plain": [
       "0.10    1985\n",
       "0.95    2009\n",
       "Name: Outlet_Establishment_Year, dtype: object"
      ]
     },
     "execution_count": 280,
     "metadata": {},
     "output_type": "execute_result"
    }
   ],
   "source": [
    "plt.hist(X_imputed_out_2.Outlet_Establishment_Year)\n",
    "plt.title('Outlet_Establishment_Year')\n",
    "plt.show()\n",
    "\n",
    "res3 = X_imputed_out_2.Outlet_Establishment_Year.quantile([lower_bound, upper_bound])\n",
    "res3"
   ]
  },
  {
   "cell_type": "code",
   "execution_count": 281,
   "metadata": {},
   "outputs": [
    {
     "data": {
      "text/plain": [
       "array([1999, 1998, 1987, 1985, 2002, 2007, 1997, 2009, 2004], dtype=object)"
      ]
     },
     "execution_count": 281,
     "metadata": {},
     "output_type": "execute_result"
    }
   ],
   "source": [
    "#Unique years\n",
    "X_imputed_out_2.Outlet_Establishment_Year.unique()"
   ]
  },
  {
   "cell_type": "markdown",
   "metadata": {},
   "source": [
    "NOTE: There is no need to remove, due to the fact that there is no store established before 1985 and after 2009"
   ]
  },
  {
   "cell_type": "markdown",
   "metadata": {},
   "source": [
    "### Feature Engineering"
   ]
  },
  {
   "cell_type": "markdown",
   "metadata": {},
   "source": [
    "#### 1. Item_Type column"
   ]
  },
  {
   "cell_type": "markdown",
   "metadata": {},
   "source": [
    "###### 1.1. Creating a broad category of Type of Item"
   ]
  },
  {
   "cell_type": "code",
   "execution_count": 282,
   "metadata": {},
   "outputs": [
    {
     "name": "stdout",
     "output_type": "stream",
     "text": [
      "['Meat' 'Fruits and Vegetables' 'Household' 'Snack Foods' 'Frozen Foods'\n",
      " 'Dairy' 'Breakfast' 'Health and Hygiene' 'Hard Drinks' 'Baking Goods'\n",
      " 'Breads' 'Soft Drinks' 'Canned' 'Starchy Foods' 'Others' 'Seafood'] \n",
      "Size: 16\n"
     ]
    }
   ],
   "source": [
    "print(X_imputed_out_2.Item_Type.unique(), '\\nSize:',len(X_imputed_out_2.Item_Type.unique()))"
   ]
  },
  {
   "cell_type": "markdown",
   "metadata": {},
   "source": [
    "NOTE: There are 16 types of producs we can make only 3 categories: Food, Drinks, Others"
   ]
  },
  {
   "cell_type": "code",
   "execution_count": 283,
   "metadata": {},
   "outputs": [
    {
     "name": "stderr",
     "output_type": "stream",
     "text": [
      "/Users/berayhayrulah/opt/anaconda3/lib/python3.7/site-packages/ipykernel_launcher.py:5: SettingWithCopyWarning: \n",
      "A value is trying to be set on a copy of a slice from a DataFrame.\n",
      "Try using .loc[row_indexer,col_indexer] = value instead\n",
      "\n",
      "See the caveats in the documentation: http://pandas.pydata.org/pandas-docs/stable/user_guide/indexing.html#returning-a-view-versus-a-copy\n",
      "  \"\"\"\n",
      "/Users/berayhayrulah/opt/anaconda3/lib/python3.7/site-packages/pandas/core/generic.py:5208: SettingWithCopyWarning: \n",
      "A value is trying to be set on a copy of a slice from a DataFrame.\n",
      "Try using .loc[row_indexer,col_indexer] = value instead\n",
      "\n",
      "See the caveats in the documentation: http://pandas.pydata.org/pandas-docs/stable/user_guide/indexing.html#returning-a-view-versus-a-copy\n",
      "  self[name] = value\n"
     ]
    },
    {
     "data": {
      "text/html": [
       "<div>\n",
       "<style scoped>\n",
       "    .dataframe tbody tr th:only-of-type {\n",
       "        vertical-align: middle;\n",
       "    }\n",
       "\n",
       "    .dataframe tbody tr th {\n",
       "        vertical-align: top;\n",
       "    }\n",
       "\n",
       "    .dataframe thead th {\n",
       "        text-align: right;\n",
       "    }\n",
       "</style>\n",
       "<table border=\"1\" class=\"dataframe\">\n",
       "  <thead>\n",
       "    <tr style=\"text-align: right;\">\n",
       "      <th></th>\n",
       "      <th>Item_Identifier</th>\n",
       "      <th>Item_Weight</th>\n",
       "      <th>Item_Fat_Content</th>\n",
       "      <th>Item_Visibility</th>\n",
       "      <th>Item_Type</th>\n",
       "      <th>Item_MRP</th>\n",
       "      <th>Outlet_Identifier</th>\n",
       "      <th>Outlet_Establishment_Year</th>\n",
       "      <th>Outlet_Size</th>\n",
       "      <th>Outlet_Location_Type</th>\n",
       "      <th>Outlet_Type</th>\n",
       "      <th>source</th>\n",
       "      <th>Combined_Item_Type</th>\n",
       "    </tr>\n",
       "  </thead>\n",
       "  <tbody>\n",
       "    <tr>\n",
       "      <td>2</td>\n",
       "      <td>FDN15</td>\n",
       "      <td>17.5</td>\n",
       "      <td>Low Fat</td>\n",
       "      <td>0.016760</td>\n",
       "      <td>Meat</td>\n",
       "      <td>141.618</td>\n",
       "      <td>OUT049</td>\n",
       "      <td>1999</td>\n",
       "      <td>Medium</td>\n",
       "      <td>Tier 1</td>\n",
       "      <td>Supermarket Type1</td>\n",
       "      <td>train</td>\n",
       "      <td>Food</td>\n",
       "    </tr>\n",
       "    <tr>\n",
       "      <td>3</td>\n",
       "      <td>FDX07</td>\n",
       "      <td>19.2</td>\n",
       "      <td>Regular</td>\n",
       "      <td>0.066285</td>\n",
       "      <td>Fruits and Vegetables</td>\n",
       "      <td>182.095</td>\n",
       "      <td>OUT010</td>\n",
       "      <td>1998</td>\n",
       "      <td>Medium</td>\n",
       "      <td>Tier 3</td>\n",
       "      <td>Grocery Store</td>\n",
       "      <td>train</td>\n",
       "      <td>Food</td>\n",
       "    </tr>\n",
       "    <tr>\n",
       "      <td>4</td>\n",
       "      <td>NCD19</td>\n",
       "      <td>8.93</td>\n",
       "      <td>Low Fat</td>\n",
       "      <td>0.066285</td>\n",
       "      <td>Household</td>\n",
       "      <td>53.8614</td>\n",
       "      <td>OUT013</td>\n",
       "      <td>1987</td>\n",
       "      <td>High</td>\n",
       "      <td>Tier 3</td>\n",
       "      <td>Supermarket Type1</td>\n",
       "      <td>train</td>\n",
       "      <td>Others</td>\n",
       "    </tr>\n",
       "    <tr>\n",
       "      <td>6</td>\n",
       "      <td>FDO10</td>\n",
       "      <td>13.65</td>\n",
       "      <td>Regular</td>\n",
       "      <td>0.012741</td>\n",
       "      <td>Snack Foods</td>\n",
       "      <td>57.6588</td>\n",
       "      <td>OUT013</td>\n",
       "      <td>1987</td>\n",
       "      <td>High</td>\n",
       "      <td>Tier 3</td>\n",
       "      <td>Supermarket Type1</td>\n",
       "      <td>train</td>\n",
       "      <td>Food</td>\n",
       "    </tr>\n",
       "    <tr>\n",
       "      <td>7</td>\n",
       "      <td>FDP10</td>\n",
       "      <td>17.6</td>\n",
       "      <td>Low Fat</td>\n",
       "      <td>0.127470</td>\n",
       "      <td>Snack Foods</td>\n",
       "      <td>107.762</td>\n",
       "      <td>OUT027</td>\n",
       "      <td>1985</td>\n",
       "      <td>Medium</td>\n",
       "      <td>Tier 3</td>\n",
       "      <td>Supermarket Type3</td>\n",
       "      <td>train</td>\n",
       "      <td>Food</td>\n",
       "    </tr>\n",
       "  </tbody>\n",
       "</table>\n",
       "</div>"
      ],
      "text/plain": [
       "  Item_Identifier Item_Weight Item_Fat_Content  Item_Visibility  \\\n",
       "2           FDN15        17.5          Low Fat         0.016760   \n",
       "3           FDX07        19.2          Regular         0.066285   \n",
       "4           NCD19        8.93          Low Fat         0.066285   \n",
       "6           FDO10       13.65          Regular         0.012741   \n",
       "7           FDP10        17.6          Low Fat         0.127470   \n",
       "\n",
       "               Item_Type Item_MRP Outlet_Identifier Outlet_Establishment_Year  \\\n",
       "2                   Meat  141.618            OUT049                      1999   \n",
       "3  Fruits and Vegetables  182.095            OUT010                      1998   \n",
       "4              Household  53.8614            OUT013                      1987   \n",
       "6            Snack Foods  57.6588            OUT013                      1987   \n",
       "7            Snack Foods  107.762            OUT027                      1985   \n",
       "\n",
       "  Outlet_Size Outlet_Location_Type        Outlet_Type source  \\\n",
       "2      Medium               Tier 1  Supermarket Type1  train   \n",
       "3      Medium               Tier 3      Grocery Store  train   \n",
       "4        High               Tier 3  Supermarket Type1  train   \n",
       "6        High               Tier 3  Supermarket Type1  train   \n",
       "7      Medium               Tier 3  Supermarket Type3  train   \n",
       "\n",
       "  Combined_Item_Type  \n",
       "2               Food  \n",
       "3               Food  \n",
       "4             Others  \n",
       "6               Food  \n",
       "7               Food  "
      ]
     },
     "execution_count": 283,
     "metadata": {},
     "output_type": "execute_result"
    }
   ],
   "source": [
    "# Creating new column with combined type\n",
    "\n",
    "#Creating new column 'Combined_Item_Type' with first two letters of 'Item_Identifier' column,\n",
    "# which FD, DR and NC corespondents to Food, Drinks and Others respectively\n",
    "X_imputed_out_2['Combined_Item_Type'] = X_imputed_out_2.Item_Identifier.apply(lambda x: x[:2])\n",
    "\n",
    "#Replacing ['FD', 'NC', 'DR'], ['Food', 'Others', 'Drinks'] respectively of 'Combined_Item_Type' column\n",
    "X_imputed_out_2.Combined_Item_Type = X_imputed_out_2.Combined_Item_Type.replace(['FD', 'NC', 'DR'], ['Food', 'Others', 'Drinks'])\n",
    "X_imputed_out_2.head()"
   ]
  },
  {
   "cell_type": "markdown",
   "metadata": {},
   "source": [
    "#### 2. Outlet_Establishment_Year column"
   ]
  },
  {
   "cell_type": "markdown",
   "metadata": {},
   "source": [
    "##### 2.1. New column with the years of operation of a store"
   ]
  },
  {
   "cell_type": "code",
   "execution_count": 284,
   "metadata": {},
   "outputs": [
    {
     "name": "stderr",
     "output_type": "stream",
     "text": [
      "/Users/berayhayrulah/opt/anaconda3/lib/python3.7/site-packages/ipykernel_launcher.py:3: SettingWithCopyWarning: \n",
      "A value is trying to be set on a copy of a slice from a DataFrame.\n",
      "Try using .loc[row_indexer,col_indexer] = value instead\n",
      "\n",
      "See the caveats in the documentation: http://pandas.pydata.org/pandas-docs/stable/user_guide/indexing.html#returning-a-view-versus-a-copy\n",
      "  This is separate from the ipykernel package so we can avoid doing imports until\n"
     ]
    },
    {
     "data": {
      "text/html": [
       "<div>\n",
       "<style scoped>\n",
       "    .dataframe tbody tr th:only-of-type {\n",
       "        vertical-align: middle;\n",
       "    }\n",
       "\n",
       "    .dataframe tbody tr th {\n",
       "        vertical-align: top;\n",
       "    }\n",
       "\n",
       "    .dataframe thead th {\n",
       "        text-align: right;\n",
       "    }\n",
       "</style>\n",
       "<table border=\"1\" class=\"dataframe\">\n",
       "  <thead>\n",
       "    <tr style=\"text-align: right;\">\n",
       "      <th></th>\n",
       "      <th>Item_Identifier</th>\n",
       "      <th>Item_Weight</th>\n",
       "      <th>Item_Fat_Content</th>\n",
       "      <th>Item_Visibility</th>\n",
       "      <th>Item_Type</th>\n",
       "      <th>Item_MRP</th>\n",
       "      <th>Outlet_Identifier</th>\n",
       "      <th>Outlet_Establishment_Year</th>\n",
       "      <th>Outlet_Size</th>\n",
       "      <th>Outlet_Location_Type</th>\n",
       "      <th>Outlet_Type</th>\n",
       "      <th>source</th>\n",
       "      <th>Combined_Item_Type</th>\n",
       "      <th>Years_of_operation</th>\n",
       "    </tr>\n",
       "  </thead>\n",
       "  <tbody>\n",
       "    <tr>\n",
       "      <td>2</td>\n",
       "      <td>FDN15</td>\n",
       "      <td>17.5</td>\n",
       "      <td>Low Fat</td>\n",
       "      <td>0.016760</td>\n",
       "      <td>Meat</td>\n",
       "      <td>141.618</td>\n",
       "      <td>OUT049</td>\n",
       "      <td>1999</td>\n",
       "      <td>Medium</td>\n",
       "      <td>Tier 1</td>\n",
       "      <td>Supermarket Type1</td>\n",
       "      <td>train</td>\n",
       "      <td>Food</td>\n",
       "      <td>14</td>\n",
       "    </tr>\n",
       "    <tr>\n",
       "      <td>3</td>\n",
       "      <td>FDX07</td>\n",
       "      <td>19.2</td>\n",
       "      <td>Regular</td>\n",
       "      <td>0.066285</td>\n",
       "      <td>Fruits and Vegetables</td>\n",
       "      <td>182.095</td>\n",
       "      <td>OUT010</td>\n",
       "      <td>1998</td>\n",
       "      <td>Medium</td>\n",
       "      <td>Tier 3</td>\n",
       "      <td>Grocery Store</td>\n",
       "      <td>train</td>\n",
       "      <td>Food</td>\n",
       "      <td>15</td>\n",
       "    </tr>\n",
       "    <tr>\n",
       "      <td>4</td>\n",
       "      <td>NCD19</td>\n",
       "      <td>8.93</td>\n",
       "      <td>Low Fat</td>\n",
       "      <td>0.066285</td>\n",
       "      <td>Household</td>\n",
       "      <td>53.8614</td>\n",
       "      <td>OUT013</td>\n",
       "      <td>1987</td>\n",
       "      <td>High</td>\n",
       "      <td>Tier 3</td>\n",
       "      <td>Supermarket Type1</td>\n",
       "      <td>train</td>\n",
       "      <td>Others</td>\n",
       "      <td>26</td>\n",
       "    </tr>\n",
       "    <tr>\n",
       "      <td>6</td>\n",
       "      <td>FDO10</td>\n",
       "      <td>13.65</td>\n",
       "      <td>Regular</td>\n",
       "      <td>0.012741</td>\n",
       "      <td>Snack Foods</td>\n",
       "      <td>57.6588</td>\n",
       "      <td>OUT013</td>\n",
       "      <td>1987</td>\n",
       "      <td>High</td>\n",
       "      <td>Tier 3</td>\n",
       "      <td>Supermarket Type1</td>\n",
       "      <td>train</td>\n",
       "      <td>Food</td>\n",
       "      <td>26</td>\n",
       "    </tr>\n",
       "    <tr>\n",
       "      <td>7</td>\n",
       "      <td>FDP10</td>\n",
       "      <td>17.6</td>\n",
       "      <td>Low Fat</td>\n",
       "      <td>0.127470</td>\n",
       "      <td>Snack Foods</td>\n",
       "      <td>107.762</td>\n",
       "      <td>OUT027</td>\n",
       "      <td>1985</td>\n",
       "      <td>Medium</td>\n",
       "      <td>Tier 3</td>\n",
       "      <td>Supermarket Type3</td>\n",
       "      <td>train</td>\n",
       "      <td>Food</td>\n",
       "      <td>28</td>\n",
       "    </tr>\n",
       "  </tbody>\n",
       "</table>\n",
       "</div>"
      ],
      "text/plain": [
       "  Item_Identifier Item_Weight Item_Fat_Content  Item_Visibility  \\\n",
       "2           FDN15        17.5          Low Fat         0.016760   \n",
       "3           FDX07        19.2          Regular         0.066285   \n",
       "4           NCD19        8.93          Low Fat         0.066285   \n",
       "6           FDO10       13.65          Regular         0.012741   \n",
       "7           FDP10        17.6          Low Fat         0.127470   \n",
       "\n",
       "               Item_Type Item_MRP Outlet_Identifier Outlet_Establishment_Year  \\\n",
       "2                   Meat  141.618            OUT049                      1999   \n",
       "3  Fruits and Vegetables  182.095            OUT010                      1998   \n",
       "4              Household  53.8614            OUT013                      1987   \n",
       "6            Snack Foods  57.6588            OUT013                      1987   \n",
       "7            Snack Foods  107.762            OUT027                      1985   \n",
       "\n",
       "  Outlet_Size Outlet_Location_Type        Outlet_Type source  \\\n",
       "2      Medium               Tier 1  Supermarket Type1  train   \n",
       "3      Medium               Tier 3      Grocery Store  train   \n",
       "4        High               Tier 3  Supermarket Type1  train   \n",
       "6        High               Tier 3  Supermarket Type1  train   \n",
       "7      Medium               Tier 3  Supermarket Type3  train   \n",
       "\n",
       "  Combined_Item_Type Years_of_operation  \n",
       "2               Food                 14  \n",
       "3               Food                 15  \n",
       "4             Others                 26  \n",
       "6               Food                 26  \n",
       "7               Food                 28  "
      ]
     },
     "execution_count": 284,
     "metadata": {},
     "output_type": "execute_result"
    }
   ],
   "source": [
    "# Due to the fact data is collected in 2013, I am gonna get latest year as 2013\n",
    "# Creating new column 'Years_of_operation'\n",
    "X_imputed_out_2['Years_of_operation'] = 2013 - X_imputed_out_2.Outlet_Establishment_Year\n",
    "X_imputed_out_2.head()"
   ]
  },
  {
   "cell_type": "markdown",
   "metadata": {},
   "source": [
    "#### 3. Item_Fat_Content column"
   ]
  },
  {
   "cell_type": "markdown",
   "metadata": {},
   "source": [
    "##### 3.1. Correcting mis-coded values ('LF', 'reg', 'low fat') to 'Low Fat' and 'Regular' "
   ]
  },
  {
   "cell_type": "code",
   "execution_count": 285,
   "metadata": {},
   "outputs": [
    {
     "data": {
      "text/plain": [
       "array(['Low Fat', 'Regular', 'LF', 'reg', 'low fat'], dtype=object)"
      ]
     },
     "execution_count": 285,
     "metadata": {},
     "output_type": "execute_result"
    }
   ],
   "source": [
    "X_imputed_out_2.Item_Fat_Content.unique()"
   ]
  },
  {
   "cell_type": "code",
   "execution_count": 286,
   "metadata": {},
   "outputs": [
    {
     "name": "stderr",
     "output_type": "stream",
     "text": [
      "/Users/berayhayrulah/opt/anaconda3/lib/python3.7/site-packages/ipykernel_launcher.py:3: SettingWithCopyWarning: \n",
      "A value is trying to be set on a copy of a slice from a DataFrame.\n",
      "Try using .loc[row_indexer,col_indexer] = value instead\n",
      "\n",
      "See the caveats in the documentation: http://pandas.pydata.org/pandas-docs/stable/user_guide/indexing.html#returning-a-view-versus-a-copy\n",
      "  This is separate from the ipykernel package so we can avoid doing imports until\n"
     ]
    },
    {
     "data": {
      "text/plain": [
       "array(['Low Fat', 'Regular'], dtype=object)"
      ]
     },
     "execution_count": 286,
     "metadata": {},
     "output_type": "execute_result"
    }
   ],
   "source": [
    "Item_Fat_Content = X_imputed_out_2['Item_Fat_Content'].replace(['low fat', 'LF'], 'Low Fat')\n",
    "Item_Fat_Content = Item_Fat_Content.replace('reg', 'Regular')\n",
    "X_imputed_out_2['Item_Fat_Content'] = Item_Fat_Content\n",
    "X_imputed_out_2['Item_Fat_Content'].unique()"
   ]
  },
  {
   "cell_type": "markdown",
   "metadata": {},
   "source": [
    "#### 3.2. Changing Item_Fat_Content to 'Low Fat', 'Regular' and 'Non-Edible'"
   ]
  },
  {
   "cell_type": "code",
   "execution_count": 287,
   "metadata": {},
   "outputs": [
    {
     "name": "stderr",
     "output_type": "stream",
     "text": [
      "/Users/berayhayrulah/opt/anaconda3/lib/python3.7/site-packages/pandas/core/indexing.py:494: SettingWithCopyWarning: \n",
      "A value is trying to be set on a copy of a slice from a DataFrame.\n",
      "Try using .loc[row_indexer,col_indexer] = value instead\n",
      "\n",
      "See the caveats in the documentation: http://pandas.pydata.org/pandas-docs/stable/user_guide/indexing.html#returning-a-view-versus-a-copy\n",
      "  self.obj[item] = s\n"
     ]
    },
    {
     "data": {
      "text/html": [
       "<div>\n",
       "<style scoped>\n",
       "    .dataframe tbody tr th:only-of-type {\n",
       "        vertical-align: middle;\n",
       "    }\n",
       "\n",
       "    .dataframe tbody tr th {\n",
       "        vertical-align: top;\n",
       "    }\n",
       "\n",
       "    .dataframe thead th {\n",
       "        text-align: right;\n",
       "    }\n",
       "</style>\n",
       "<table border=\"1\" class=\"dataframe\">\n",
       "  <thead>\n",
       "    <tr style=\"text-align: right;\">\n",
       "      <th></th>\n",
       "      <th>Item_Identifier</th>\n",
       "      <th>Item_Weight</th>\n",
       "      <th>Item_Fat_Content</th>\n",
       "      <th>Item_Visibility</th>\n",
       "      <th>Item_Type</th>\n",
       "      <th>Item_MRP</th>\n",
       "      <th>Outlet_Identifier</th>\n",
       "      <th>Outlet_Establishment_Year</th>\n",
       "      <th>Outlet_Size</th>\n",
       "      <th>Outlet_Location_Type</th>\n",
       "      <th>Outlet_Type</th>\n",
       "      <th>source</th>\n",
       "      <th>Combined_Item_Type</th>\n",
       "      <th>Years_of_operation</th>\n",
       "    </tr>\n",
       "  </thead>\n",
       "  <tbody>\n",
       "    <tr>\n",
       "      <td>2</td>\n",
       "      <td>FDN15</td>\n",
       "      <td>17.5</td>\n",
       "      <td>Low Fat</td>\n",
       "      <td>0.016760</td>\n",
       "      <td>Meat</td>\n",
       "      <td>141.618</td>\n",
       "      <td>OUT049</td>\n",
       "      <td>1999</td>\n",
       "      <td>Medium</td>\n",
       "      <td>Tier 1</td>\n",
       "      <td>Supermarket Type1</td>\n",
       "      <td>train</td>\n",
       "      <td>Food</td>\n",
       "      <td>14</td>\n",
       "    </tr>\n",
       "    <tr>\n",
       "      <td>3</td>\n",
       "      <td>FDX07</td>\n",
       "      <td>19.2</td>\n",
       "      <td>Regular</td>\n",
       "      <td>0.066285</td>\n",
       "      <td>Fruits and Vegetables</td>\n",
       "      <td>182.095</td>\n",
       "      <td>OUT010</td>\n",
       "      <td>1998</td>\n",
       "      <td>Medium</td>\n",
       "      <td>Tier 3</td>\n",
       "      <td>Grocery Store</td>\n",
       "      <td>train</td>\n",
       "      <td>Food</td>\n",
       "      <td>15</td>\n",
       "    </tr>\n",
       "    <tr>\n",
       "      <td>4</td>\n",
       "      <td>NCD19</td>\n",
       "      <td>8.93</td>\n",
       "      <td>Non-Edible</td>\n",
       "      <td>0.066285</td>\n",
       "      <td>Household</td>\n",
       "      <td>53.8614</td>\n",
       "      <td>OUT013</td>\n",
       "      <td>1987</td>\n",
       "      <td>High</td>\n",
       "      <td>Tier 3</td>\n",
       "      <td>Supermarket Type1</td>\n",
       "      <td>train</td>\n",
       "      <td>Others</td>\n",
       "      <td>26</td>\n",
       "    </tr>\n",
       "    <tr>\n",
       "      <td>6</td>\n",
       "      <td>FDO10</td>\n",
       "      <td>13.65</td>\n",
       "      <td>Regular</td>\n",
       "      <td>0.012741</td>\n",
       "      <td>Snack Foods</td>\n",
       "      <td>57.6588</td>\n",
       "      <td>OUT013</td>\n",
       "      <td>1987</td>\n",
       "      <td>High</td>\n",
       "      <td>Tier 3</td>\n",
       "      <td>Supermarket Type1</td>\n",
       "      <td>train</td>\n",
       "      <td>Food</td>\n",
       "      <td>26</td>\n",
       "    </tr>\n",
       "    <tr>\n",
       "      <td>7</td>\n",
       "      <td>FDP10</td>\n",
       "      <td>17.6</td>\n",
       "      <td>Low Fat</td>\n",
       "      <td>0.127470</td>\n",
       "      <td>Snack Foods</td>\n",
       "      <td>107.762</td>\n",
       "      <td>OUT027</td>\n",
       "      <td>1985</td>\n",
       "      <td>Medium</td>\n",
       "      <td>Tier 3</td>\n",
       "      <td>Supermarket Type3</td>\n",
       "      <td>train</td>\n",
       "      <td>Food</td>\n",
       "      <td>28</td>\n",
       "    </tr>\n",
       "  </tbody>\n",
       "</table>\n",
       "</div>"
      ],
      "text/plain": [
       "  Item_Identifier Item_Weight Item_Fat_Content  Item_Visibility  \\\n",
       "2           FDN15        17.5          Low Fat         0.016760   \n",
       "3           FDX07        19.2          Regular         0.066285   \n",
       "4           NCD19        8.93       Non-Edible         0.066285   \n",
       "6           FDO10       13.65          Regular         0.012741   \n",
       "7           FDP10        17.6          Low Fat         0.127470   \n",
       "\n",
       "               Item_Type Item_MRP Outlet_Identifier Outlet_Establishment_Year  \\\n",
       "2                   Meat  141.618            OUT049                      1999   \n",
       "3  Fruits and Vegetables  182.095            OUT010                      1998   \n",
       "4              Household  53.8614            OUT013                      1987   \n",
       "6            Snack Foods  57.6588            OUT013                      1987   \n",
       "7            Snack Foods  107.762            OUT027                      1985   \n",
       "\n",
       "  Outlet_Size Outlet_Location_Type        Outlet_Type source  \\\n",
       "2      Medium               Tier 1  Supermarket Type1  train   \n",
       "3      Medium               Tier 3      Grocery Store  train   \n",
       "4        High               Tier 3  Supermarket Type1  train   \n",
       "6        High               Tier 3  Supermarket Type1  train   \n",
       "7      Medium               Tier 3  Supermarket Type3  train   \n",
       "\n",
       "  Combined_Item_Type Years_of_operation  \n",
       "2               Food                 14  \n",
       "3               Food                 15  \n",
       "4             Others                 26  \n",
       "6               Food                 26  \n",
       "7               Food                 28  "
      ]
     },
     "execution_count": 287,
     "metadata": {},
     "output_type": "execute_result"
    }
   ],
   "source": [
    "X_imputed_out_2.loc[X_imputed_out_2['Combined_Item_Type'] == 'Others', 'Item_Fat_Content'] = 'Non-Edible'\n",
    "X_imputed_out_2.head()"
   ]
  },
  {
   "cell_type": "markdown",
   "metadata": {},
   "source": [
    "#### 4. Categorical Encoding"
   ]
  },
  {
   "cell_type": "code",
   "execution_count": 288,
   "metadata": {},
   "outputs": [
    {
     "name": "stderr",
     "output_type": "stream",
     "text": [
      "/Users/berayhayrulah/opt/anaconda3/lib/python3.7/site-packages/ipykernel_launcher.py:2: SettingWithCopyWarning: \n",
      "A value is trying to be set on a copy of a slice from a DataFrame.\n",
      "Try using .loc[row_indexer,col_indexer] = value instead\n",
      "\n",
      "See the caveats in the documentation: http://pandas.pydata.org/pandas-docs/stable/user_guide/indexing.html#returning-a-view-versus-a-copy\n",
      "  \n"
     ]
    },
    {
     "data": {
      "text/html": [
       "<div>\n",
       "<style scoped>\n",
       "    .dataframe tbody tr th:only-of-type {\n",
       "        vertical-align: middle;\n",
       "    }\n",
       "\n",
       "    .dataframe tbody tr th {\n",
       "        vertical-align: top;\n",
       "    }\n",
       "\n",
       "    .dataframe thead th {\n",
       "        text-align: right;\n",
       "    }\n",
       "</style>\n",
       "<table border=\"1\" class=\"dataframe\">\n",
       "  <thead>\n",
       "    <tr style=\"text-align: right;\">\n",
       "      <th></th>\n",
       "      <th>Item_Weight</th>\n",
       "      <th>Item_Fat_Content</th>\n",
       "      <th>Item_Visibility</th>\n",
       "      <th>Item_MRP</th>\n",
       "      <th>Outlet_Size</th>\n",
       "      <th>Outlet_Location_Type</th>\n",
       "      <th>Outlet_Type</th>\n",
       "      <th>Combined_Item_Type</th>\n",
       "      <th>Years_of_operation</th>\n",
       "      <th>Outlet</th>\n",
       "    </tr>\n",
       "  </thead>\n",
       "  <tbody>\n",
       "    <tr>\n",
       "      <td>2</td>\n",
       "      <td>17.5</td>\n",
       "      <td>Low Fat</td>\n",
       "      <td>0.016760</td>\n",
       "      <td>141.618</td>\n",
       "      <td>Medium</td>\n",
       "      <td>Tier 1</td>\n",
       "      <td>Supermarket Type1</td>\n",
       "      <td>Food</td>\n",
       "      <td>14</td>\n",
       "      <td>OUT049</td>\n",
       "    </tr>\n",
       "    <tr>\n",
       "      <td>3</td>\n",
       "      <td>19.2</td>\n",
       "      <td>Regular</td>\n",
       "      <td>0.066285</td>\n",
       "      <td>182.095</td>\n",
       "      <td>Medium</td>\n",
       "      <td>Tier 3</td>\n",
       "      <td>Grocery Store</td>\n",
       "      <td>Food</td>\n",
       "      <td>15</td>\n",
       "      <td>OUT010</td>\n",
       "    </tr>\n",
       "    <tr>\n",
       "      <td>4</td>\n",
       "      <td>8.93</td>\n",
       "      <td>Non-Edible</td>\n",
       "      <td>0.066285</td>\n",
       "      <td>53.8614</td>\n",
       "      <td>High</td>\n",
       "      <td>Tier 3</td>\n",
       "      <td>Supermarket Type1</td>\n",
       "      <td>Others</td>\n",
       "      <td>26</td>\n",
       "      <td>OUT013</td>\n",
       "    </tr>\n",
       "    <tr>\n",
       "      <td>6</td>\n",
       "      <td>13.65</td>\n",
       "      <td>Regular</td>\n",
       "      <td>0.012741</td>\n",
       "      <td>57.6588</td>\n",
       "      <td>High</td>\n",
       "      <td>Tier 3</td>\n",
       "      <td>Supermarket Type1</td>\n",
       "      <td>Food</td>\n",
       "      <td>26</td>\n",
       "      <td>OUT013</td>\n",
       "    </tr>\n",
       "    <tr>\n",
       "      <td>7</td>\n",
       "      <td>17.6</td>\n",
       "      <td>Low Fat</td>\n",
       "      <td>0.127470</td>\n",
       "      <td>107.762</td>\n",
       "      <td>Medium</td>\n",
       "      <td>Tier 3</td>\n",
       "      <td>Supermarket Type3</td>\n",
       "      <td>Food</td>\n",
       "      <td>28</td>\n",
       "      <td>OUT027</td>\n",
       "    </tr>\n",
       "  </tbody>\n",
       "</table>\n",
       "</div>"
      ],
      "text/plain": [
       "  Item_Weight Item_Fat_Content  Item_Visibility Item_MRP Outlet_Size  \\\n",
       "2        17.5          Low Fat         0.016760  141.618      Medium   \n",
       "3        19.2          Regular         0.066285  182.095      Medium   \n",
       "4        8.93       Non-Edible         0.066285  53.8614        High   \n",
       "6       13.65          Regular         0.012741  57.6588        High   \n",
       "7        17.6          Low Fat         0.127470  107.762      Medium   \n",
       "\n",
       "  Outlet_Location_Type        Outlet_Type Combined_Item_Type  \\\n",
       "2               Tier 1  Supermarket Type1               Food   \n",
       "3               Tier 3      Grocery Store               Food   \n",
       "4               Tier 3  Supermarket Type1             Others   \n",
       "6               Tier 3  Supermarket Type1               Food   \n",
       "7               Tier 3  Supermarket Type3               Food   \n",
       "\n",
       "  Years_of_operation  Outlet  \n",
       "2                 14  OUT049  \n",
       "3                 15  OUT010  \n",
       "4                 26  OUT013  \n",
       "6                 26  OUT013  \n",
       "7                 28  OUT027  "
      ]
     },
     "execution_count": 288,
     "metadata": {},
     "output_type": "execute_result"
    }
   ],
   "source": [
    "# Making new column 'Outlet' for Label Encoding\n",
    "X_imputed_out_2['Outlet'] = X_imputed_out_2.Outlet_Identifier\n",
    "\n",
    "# Droping Product and Store Identifier columns and 'source' column, as well as Item_Type, Outlet_Establishment_Year because I made new broaded feature of it\n",
    "X_imputed_outlied_featured = X_imputed_out_2.drop(['Item_Identifier', 'Outlet_Identifier', 'source', 'Item_Type', 'Outlet_Establishment_Year'], axis = 1)\n",
    "\n",
    "X_imputed_outlied_featured.head()"
   ]
  },
  {
   "cell_type": "code",
   "execution_count": 289,
   "metadata": {},
   "outputs": [
    {
     "data": {
      "text/html": [
       "<div>\n",
       "<style scoped>\n",
       "    .dataframe tbody tr th:only-of-type {\n",
       "        vertical-align: middle;\n",
       "    }\n",
       "\n",
       "    .dataframe tbody tr th {\n",
       "        vertical-align: top;\n",
       "    }\n",
       "\n",
       "    .dataframe thead th {\n",
       "        text-align: right;\n",
       "    }\n",
       "</style>\n",
       "<table border=\"1\" class=\"dataframe\">\n",
       "  <thead>\n",
       "    <tr style=\"text-align: right;\">\n",
       "      <th></th>\n",
       "      <th>Item_Weight</th>\n",
       "      <th>Item_Visibility</th>\n",
       "      <th>Item_MRP</th>\n",
       "      <th>Years_of_operation</th>\n",
       "      <th>Item_Fat_Content_Non-Edible</th>\n",
       "      <th>Item_Fat_Content_Regular</th>\n",
       "      <th>Outlet_Size_Medium</th>\n",
       "      <th>Outlet_Size_Small</th>\n",
       "      <th>Outlet_Location_Type_Tier 2</th>\n",
       "      <th>Outlet_Location_Type_Tier 3</th>\n",
       "      <th>...</th>\n",
       "      <th>Combined_Item_Type_Others</th>\n",
       "      <th>Outlet_OUT013</th>\n",
       "      <th>Outlet_OUT017</th>\n",
       "      <th>Outlet_OUT018</th>\n",
       "      <th>Outlet_OUT019</th>\n",
       "      <th>Outlet_OUT027</th>\n",
       "      <th>Outlet_OUT035</th>\n",
       "      <th>Outlet_OUT045</th>\n",
       "      <th>Outlet_OUT046</th>\n",
       "      <th>Outlet_OUT049</th>\n",
       "    </tr>\n",
       "  </thead>\n",
       "  <tbody>\n",
       "    <tr>\n",
       "      <td>2</td>\n",
       "      <td>17.5</td>\n",
       "      <td>0.016760</td>\n",
       "      <td>141.618</td>\n",
       "      <td>14</td>\n",
       "      <td>0</td>\n",
       "      <td>0</td>\n",
       "      <td>1</td>\n",
       "      <td>0</td>\n",
       "      <td>0</td>\n",
       "      <td>0</td>\n",
       "      <td>...</td>\n",
       "      <td>0</td>\n",
       "      <td>0</td>\n",
       "      <td>0</td>\n",
       "      <td>0</td>\n",
       "      <td>0</td>\n",
       "      <td>0</td>\n",
       "      <td>0</td>\n",
       "      <td>0</td>\n",
       "      <td>0</td>\n",
       "      <td>1</td>\n",
       "    </tr>\n",
       "    <tr>\n",
       "      <td>3</td>\n",
       "      <td>19.2</td>\n",
       "      <td>0.066285</td>\n",
       "      <td>182.095</td>\n",
       "      <td>15</td>\n",
       "      <td>0</td>\n",
       "      <td>1</td>\n",
       "      <td>1</td>\n",
       "      <td>0</td>\n",
       "      <td>0</td>\n",
       "      <td>1</td>\n",
       "      <td>...</td>\n",
       "      <td>0</td>\n",
       "      <td>0</td>\n",
       "      <td>0</td>\n",
       "      <td>0</td>\n",
       "      <td>0</td>\n",
       "      <td>0</td>\n",
       "      <td>0</td>\n",
       "      <td>0</td>\n",
       "      <td>0</td>\n",
       "      <td>0</td>\n",
       "    </tr>\n",
       "    <tr>\n",
       "      <td>4</td>\n",
       "      <td>8.93</td>\n",
       "      <td>0.066285</td>\n",
       "      <td>53.8614</td>\n",
       "      <td>26</td>\n",
       "      <td>1</td>\n",
       "      <td>0</td>\n",
       "      <td>0</td>\n",
       "      <td>0</td>\n",
       "      <td>0</td>\n",
       "      <td>1</td>\n",
       "      <td>...</td>\n",
       "      <td>1</td>\n",
       "      <td>1</td>\n",
       "      <td>0</td>\n",
       "      <td>0</td>\n",
       "      <td>0</td>\n",
       "      <td>0</td>\n",
       "      <td>0</td>\n",
       "      <td>0</td>\n",
       "      <td>0</td>\n",
       "      <td>0</td>\n",
       "    </tr>\n",
       "    <tr>\n",
       "      <td>6</td>\n",
       "      <td>13.65</td>\n",
       "      <td>0.012741</td>\n",
       "      <td>57.6588</td>\n",
       "      <td>26</td>\n",
       "      <td>0</td>\n",
       "      <td>1</td>\n",
       "      <td>0</td>\n",
       "      <td>0</td>\n",
       "      <td>0</td>\n",
       "      <td>1</td>\n",
       "      <td>...</td>\n",
       "      <td>0</td>\n",
       "      <td>1</td>\n",
       "      <td>0</td>\n",
       "      <td>0</td>\n",
       "      <td>0</td>\n",
       "      <td>0</td>\n",
       "      <td>0</td>\n",
       "      <td>0</td>\n",
       "      <td>0</td>\n",
       "      <td>0</td>\n",
       "    </tr>\n",
       "    <tr>\n",
       "      <td>7</td>\n",
       "      <td>17.6</td>\n",
       "      <td>0.127470</td>\n",
       "      <td>107.762</td>\n",
       "      <td>28</td>\n",
       "      <td>0</td>\n",
       "      <td>0</td>\n",
       "      <td>1</td>\n",
       "      <td>0</td>\n",
       "      <td>0</td>\n",
       "      <td>1</td>\n",
       "      <td>...</td>\n",
       "      <td>0</td>\n",
       "      <td>0</td>\n",
       "      <td>0</td>\n",
       "      <td>0</td>\n",
       "      <td>0</td>\n",
       "      <td>1</td>\n",
       "      <td>0</td>\n",
       "      <td>0</td>\n",
       "      <td>0</td>\n",
       "      <td>0</td>\n",
       "    </tr>\n",
       "    <tr>\n",
       "      <td>...</td>\n",
       "      <td>...</td>\n",
       "      <td>...</td>\n",
       "      <td>...</td>\n",
       "      <td>...</td>\n",
       "      <td>...</td>\n",
       "      <td>...</td>\n",
       "      <td>...</td>\n",
       "      <td>...</td>\n",
       "      <td>...</td>\n",
       "      <td>...</td>\n",
       "      <td>...</td>\n",
       "      <td>...</td>\n",
       "      <td>...</td>\n",
       "      <td>...</td>\n",
       "      <td>...</td>\n",
       "      <td>...</td>\n",
       "      <td>...</td>\n",
       "      <td>...</td>\n",
       "      <td>...</td>\n",
       "      <td>...</td>\n",
       "      <td>...</td>\n",
       "    </tr>\n",
       "    <tr>\n",
       "      <td>5676</td>\n",
       "      <td>10.5</td>\n",
       "      <td>0.013496</td>\n",
       "      <td>141.315</td>\n",
       "      <td>16</td>\n",
       "      <td>0</td>\n",
       "      <td>1</td>\n",
       "      <td>0</td>\n",
       "      <td>1</td>\n",
       "      <td>0</td>\n",
       "      <td>0</td>\n",
       "      <td>...</td>\n",
       "      <td>0</td>\n",
       "      <td>0</td>\n",
       "      <td>0</td>\n",
       "      <td>0</td>\n",
       "      <td>0</td>\n",
       "      <td>0</td>\n",
       "      <td>0</td>\n",
       "      <td>0</td>\n",
       "      <td>1</td>\n",
       "      <td>0</td>\n",
       "    </tr>\n",
       "    <tr>\n",
       "      <td>5677</td>\n",
       "      <td>7.6</td>\n",
       "      <td>0.142991</td>\n",
       "      <td>169.145</td>\n",
       "      <td>4</td>\n",
       "      <td>0</td>\n",
       "      <td>1</td>\n",
       "      <td>1</td>\n",
       "      <td>0</td>\n",
       "      <td>0</td>\n",
       "      <td>1</td>\n",
       "      <td>...</td>\n",
       "      <td>0</td>\n",
       "      <td>0</td>\n",
       "      <td>0</td>\n",
       "      <td>1</td>\n",
       "      <td>0</td>\n",
       "      <td>0</td>\n",
       "      <td>0</td>\n",
       "      <td>0</td>\n",
       "      <td>0</td>\n",
       "      <td>0</td>\n",
       "    </tr>\n",
       "    <tr>\n",
       "      <td>5678</td>\n",
       "      <td>10</td>\n",
       "      <td>0.073529</td>\n",
       "      <td>118.744</td>\n",
       "      <td>11</td>\n",
       "      <td>1</td>\n",
       "      <td>0</td>\n",
       "      <td>1</td>\n",
       "      <td>0</td>\n",
       "      <td>1</td>\n",
       "      <td>0</td>\n",
       "      <td>...</td>\n",
       "      <td>1</td>\n",
       "      <td>0</td>\n",
       "      <td>0</td>\n",
       "      <td>0</td>\n",
       "      <td>0</td>\n",
       "      <td>0</td>\n",
       "      <td>0</td>\n",
       "      <td>1</td>\n",
       "      <td>0</td>\n",
       "      <td>0</td>\n",
       "    </tr>\n",
       "    <tr>\n",
       "      <td>5679</td>\n",
       "      <td>15.3</td>\n",
       "      <td>0.066285</td>\n",
       "      <td>214.622</td>\n",
       "      <td>6</td>\n",
       "      <td>0</td>\n",
       "      <td>1</td>\n",
       "      <td>1</td>\n",
       "      <td>0</td>\n",
       "      <td>1</td>\n",
       "      <td>0</td>\n",
       "      <td>...</td>\n",
       "      <td>0</td>\n",
       "      <td>0</td>\n",
       "      <td>1</td>\n",
       "      <td>0</td>\n",
       "      <td>0</td>\n",
       "      <td>0</td>\n",
       "      <td>0</td>\n",
       "      <td>0</td>\n",
       "      <td>0</td>\n",
       "      <td>0</td>\n",
       "    </tr>\n",
       "    <tr>\n",
       "      <td>5680</td>\n",
       "      <td>9.5</td>\n",
       "      <td>0.104720</td>\n",
       "      <td>79.796</td>\n",
       "      <td>11</td>\n",
       "      <td>0</td>\n",
       "      <td>1</td>\n",
       "      <td>1</td>\n",
       "      <td>0</td>\n",
       "      <td>1</td>\n",
       "      <td>0</td>\n",
       "      <td>...</td>\n",
       "      <td>0</td>\n",
       "      <td>0</td>\n",
       "      <td>0</td>\n",
       "      <td>0</td>\n",
       "      <td>0</td>\n",
       "      <td>0</td>\n",
       "      <td>0</td>\n",
       "      <td>1</td>\n",
       "      <td>0</td>\n",
       "      <td>0</td>\n",
       "    </tr>\n",
       "  </tbody>\n",
       "</table>\n",
       "<p>10855 rows × 24 columns</p>\n",
       "</div>"
      ],
      "text/plain": [
       "     Item_Weight  Item_Visibility Item_MRP Years_of_operation  \\\n",
       "2           17.5         0.016760  141.618                 14   \n",
       "3           19.2         0.066285  182.095                 15   \n",
       "4           8.93         0.066285  53.8614                 26   \n",
       "6          13.65         0.012741  57.6588                 26   \n",
       "7           17.6         0.127470  107.762                 28   \n",
       "...          ...              ...      ...                ...   \n",
       "5676        10.5         0.013496  141.315                 16   \n",
       "5677         7.6         0.142991  169.145                  4   \n",
       "5678          10         0.073529  118.744                 11   \n",
       "5679        15.3         0.066285  214.622                  6   \n",
       "5680         9.5         0.104720   79.796                 11   \n",
       "\n",
       "      Item_Fat_Content_Non-Edible  Item_Fat_Content_Regular  \\\n",
       "2                               0                         0   \n",
       "3                               0                         1   \n",
       "4                               1                         0   \n",
       "6                               0                         1   \n",
       "7                               0                         0   \n",
       "...                           ...                       ...   \n",
       "5676                            0                         1   \n",
       "5677                            0                         1   \n",
       "5678                            1                         0   \n",
       "5679                            0                         1   \n",
       "5680                            0                         1   \n",
       "\n",
       "      Outlet_Size_Medium  Outlet_Size_Small  Outlet_Location_Type_Tier 2  \\\n",
       "2                      1                  0                            0   \n",
       "3                      1                  0                            0   \n",
       "4                      0                  0                            0   \n",
       "6                      0                  0                            0   \n",
       "7                      1                  0                            0   \n",
       "...                  ...                ...                          ...   \n",
       "5676                   0                  1                            0   \n",
       "5677                   1                  0                            0   \n",
       "5678                   1                  0                            1   \n",
       "5679                   1                  0                            1   \n",
       "5680                   1                  0                            1   \n",
       "\n",
       "      Outlet_Location_Type_Tier 3  ...  Combined_Item_Type_Others  \\\n",
       "2                               0  ...                          0   \n",
       "3                               1  ...                          0   \n",
       "4                               1  ...                          1   \n",
       "6                               1  ...                          0   \n",
       "7                               1  ...                          0   \n",
       "...                           ...  ...                        ...   \n",
       "5676                            0  ...                          0   \n",
       "5677                            1  ...                          0   \n",
       "5678                            0  ...                          1   \n",
       "5679                            0  ...                          0   \n",
       "5680                            0  ...                          0   \n",
       "\n",
       "      Outlet_OUT013  Outlet_OUT017  Outlet_OUT018  Outlet_OUT019  \\\n",
       "2                 0              0              0              0   \n",
       "3                 0              0              0              0   \n",
       "4                 1              0              0              0   \n",
       "6                 1              0              0              0   \n",
       "7                 0              0              0              0   \n",
       "...             ...            ...            ...            ...   \n",
       "5676              0              0              0              0   \n",
       "5677              0              0              1              0   \n",
       "5678              0              0              0              0   \n",
       "5679              0              1              0              0   \n",
       "5680              0              0              0              0   \n",
       "\n",
       "      Outlet_OUT027  Outlet_OUT035  Outlet_OUT045  Outlet_OUT046  \\\n",
       "2                 0              0              0              0   \n",
       "3                 0              0              0              0   \n",
       "4                 0              0              0              0   \n",
       "6                 0              0              0              0   \n",
       "7                 1              0              0              0   \n",
       "...             ...            ...            ...            ...   \n",
       "5676              0              0              0              1   \n",
       "5677              0              0              0              0   \n",
       "5678              0              0              1              0   \n",
       "5679              0              0              0              0   \n",
       "5680              0              0              1              0   \n",
       "\n",
       "      Outlet_OUT049  \n",
       "2                 1  \n",
       "3                 0  \n",
       "4                 0  \n",
       "6                 0  \n",
       "7                 0  \n",
       "...             ...  \n",
       "5676              0  \n",
       "5677              0  \n",
       "5678              0  \n",
       "5679              0  \n",
       "5680              0  \n",
       "\n",
       "[10855 rows x 24 columns]"
      ]
     },
     "execution_count": 289,
     "metadata": {},
     "output_type": "execute_result"
    }
   ],
   "source": [
    "# Categorical column names to encode\n",
    "categ_cols = ['Item_Fat_Content', 'Outlet_Size','Outlet_Location_Type', 'Outlet_Type','Combined_Item_Type','Outlet']\n",
    "\n",
    "#Encoding Categorical columns\n",
    "X_categorical_encoded = pd.get_dummies(X_imputed_outlied_featured[categ_cols], drop_first = True)\n",
    "\n",
    "#Getting numerical_columns only\n",
    "numerical_columns = X_imputed_outlied_featured.drop(categ_cols, axis =1)\n",
    "\n",
    "#Concatinating Numerical and categorical columns\n",
    "X_imputed_outlied_featured_encoded = pd.concat([numerical_columns, X_categorical_encoded], axis = 1)\n",
    "X_imputed_outlied_featured_encoded"
   ]
  },
  {
   "cell_type": "markdown",
   "metadata": {},
   "source": [
    "#### 5. Final data munging before modeling"
   ]
  },
  {
   "cell_type": "code",
   "execution_count": 299,
   "metadata": {},
   "outputs": [],
   "source": [
    "#Adding 'source' column, so it can be divided into train and test data frame\n",
    "X_imputed_outlied_featured_encoded_1 = pd.concat([X_imputed_outlied_featured_encoded, X_imputed_out_2.source], axis = 1)\n",
    "\n",
    "#Getting train data set and droping 'source' column\n",
    "train_data = X_imputed_outlied_featured_encoded_1[X_imputed_outlied_featured_encoded_1.source == 'train'].drop('source', axis = 1)\n",
    "\n",
    "#Getting test data set and droping 'source' column\n",
    "test_data = X_imputed_outlied_featured_encoded_1[X_imputed_outlied_featured_encoded_1.source == 'test'].drop('source', axis = 1)"
   ]
  },
  {
   "cell_type": "code",
   "execution_count": 313,
   "metadata": {},
   "outputs": [
    {
     "data": {
      "text/plain": [
       "2       2097.2700\n",
       "3        732.3800\n",
       "4        994.7052\n",
       "6        343.5528\n",
       "7       4022.7636\n",
       "          ...    \n",
       "8517    3608.6360\n",
       "8519     549.2850\n",
       "8520    1193.1136\n",
       "8521    1845.5976\n",
       "8522     765.6700\n",
       "Name: Item_Outlet_Sales, Length: 6516, dtype: float64"
      ]
     },
     "execution_count": 313,
     "metadata": {},
     "output_type": "execute_result"
    }
   ],
   "source": [
    "#Modifying dependent variable y, due to the fact removing indexes in feature engineering\n",
    "new_y = y.dropna()\n",
    "new_y1 = set(new_y.index)\n",
    "new_y11 = list()\n",
    "new_y2 = new_y1 - set(train_data.index)\n",
    "new_y3 = list(new_y2)\n",
    "new_y4 = new_y.drop(new_y3)\n",
    "\n",
    "new_y4"
   ]
  },
  {
   "cell_type": "markdown",
   "metadata": {},
   "source": [
    "#### 6. Checking Correlations and Feature Selection"
   ]
  },
  {
   "cell_type": "markdown",
   "metadata": {},
   "source": [
    "##### 6.1. Correlations"
   ]
  },
  {
   "cell_type": "code",
   "execution_count": 334,
   "metadata": {},
   "outputs": [
    {
     "data": {
      "text/plain": [
       "<matplotlib.axes._subplots.AxesSubplot at 0x1c320e7c50>"
      ]
     },
     "execution_count": 334,
     "metadata": {},
     "output_type": "execute_result"
    },
    {
     "data": {
      "image/png": "[encoded data removed]",
      "text/plain": [
       "<Figure size 432x288 with 2 Axes>"
      ]
     },
     "metadata": {},
     "output_type": "display_data"
    }
   ],
   "source": [
    "#Converting some object type feature into numeric\n",
    "\n",
    "## Converting each object feature into numeric\n",
    "Item_Weight = pd.to_numeric(train_data.Item_Weight)\n",
    "Item_MRP = pd.to_numeric(train_data.Item_MRP)\n",
    "Years_of_operation = pd.to_numeric(train_data.Years_of_operation)\n",
    "\n",
    "#Assigning new object\n",
    "X_train_data = train_data.copy()\n",
    "\n",
    "# Changint object features with numeric\n",
    "X_train_data.Item_Weight = Item_Weight\n",
    "X_train_data.Item_MRP = Item_MRP\n",
    "X_train_data.Years_of_operation = Years_of_operation\n",
    "\n",
    "#Concatinating final ready data with predictions to check correlations between them\n",
    "train_data_test = pd.concat([X_train_data, new_y4], axis = 1)\n",
    "\n",
    "correlation = train_data_test.corr()\n",
    "\n",
    "sns.heatmap(correlation)"
   ]
  },
  {
   "cell_type": "markdown",
   "metadata": {},
   "source": [
    "##### 6.2. Feature Selection"
   ]
  },
  {
   "cell_type": "code",
   "execution_count": 414,
   "metadata": {},
   "outputs": [
    {
     "name": "stderr",
     "output_type": "stream",
     "text": [
      "/Users/berayhayrulah/opt/anaconda3/lib/python3.7/site-packages/numpy/core/fromnumeric.py:2495: FutureWarning: Method .ptp is deprecated and will be removed in a future version. Use numpy.ptp instead.\n",
      "  return ptp(axis=axis, out=out, **kwargs)\n"
     ]
    },
    {
     "data": {
      "text/html": [
       "<div>\n",
       "<style scoped>\n",
       "    .dataframe tbody tr th:only-of-type {\n",
       "        vertical-align: middle;\n",
       "    }\n",
       "\n",
       "    .dataframe tbody tr th {\n",
       "        vertical-align: top;\n",
       "    }\n",
       "\n",
       "    .dataframe thead th {\n",
       "        text-align: right;\n",
       "    }\n",
       "</style>\n",
       "<table border=\"1\" class=\"dataframe\">\n",
       "  <thead>\n",
       "    <tr style=\"text-align: right;\">\n",
       "      <th></th>\n",
       "      <th>Item_MRP</th>\n",
       "      <th>Years_of_operation</th>\n",
       "      <th>Outlet_Size_Medium</th>\n",
       "      <th>Outlet_Size_Small</th>\n",
       "      <th>Outlet_Location_Type_Tier 3</th>\n",
       "      <th>Outlet_Type_Supermarket Type1</th>\n",
       "      <th>Outlet_Type_Supermarket Type2</th>\n",
       "      <th>Outlet_Type_Supermarket Type3</th>\n",
       "      <th>Outlet_OUT013</th>\n",
       "      <th>Outlet_OUT018</th>\n",
       "      <th>Outlet_OUT019</th>\n",
       "      <th>Outlet_OUT027</th>\n",
       "      <th>Outlet_OUT049</th>\n",
       "    </tr>\n",
       "  </thead>\n",
       "  <tbody>\n",
       "    <tr>\n",
       "      <td>2</td>\n",
       "      <td>141.6180</td>\n",
       "      <td>14</td>\n",
       "      <td>1</td>\n",
       "      <td>0</td>\n",
       "      <td>0</td>\n",
       "      <td>1</td>\n",
       "      <td>0</td>\n",
       "      <td>0</td>\n",
       "      <td>0</td>\n",
       "      <td>0</td>\n",
       "      <td>0</td>\n",
       "      <td>0</td>\n",
       "      <td>1</td>\n",
       "    </tr>\n",
       "    <tr>\n",
       "      <td>3</td>\n",
       "      <td>182.0950</td>\n",
       "      <td>15</td>\n",
       "      <td>1</td>\n",
       "      <td>0</td>\n",
       "      <td>1</td>\n",
       "      <td>0</td>\n",
       "      <td>0</td>\n",
       "      <td>0</td>\n",
       "      <td>0</td>\n",
       "      <td>0</td>\n",
       "      <td>0</td>\n",
       "      <td>0</td>\n",
       "      <td>0</td>\n",
       "    </tr>\n",
       "    <tr>\n",
       "      <td>4</td>\n",
       "      <td>53.8614</td>\n",
       "      <td>26</td>\n",
       "      <td>0</td>\n",
       "      <td>0</td>\n",
       "      <td>1</td>\n",
       "      <td>1</td>\n",
       "      <td>0</td>\n",
       "      <td>0</td>\n",
       "      <td>1</td>\n",
       "      <td>0</td>\n",
       "      <td>0</td>\n",
       "      <td>0</td>\n",
       "      <td>0</td>\n",
       "    </tr>\n",
       "    <tr>\n",
       "      <td>6</td>\n",
       "      <td>57.6588</td>\n",
       "      <td>26</td>\n",
       "      <td>0</td>\n",
       "      <td>0</td>\n",
       "      <td>1</td>\n",
       "      <td>1</td>\n",
       "      <td>0</td>\n",
       "      <td>0</td>\n",
       "      <td>1</td>\n",
       "      <td>0</td>\n",
       "      <td>0</td>\n",
       "      <td>0</td>\n",
       "      <td>0</td>\n",
       "    </tr>\n",
       "    <tr>\n",
       "      <td>7</td>\n",
       "      <td>107.7622</td>\n",
       "      <td>28</td>\n",
       "      <td>1</td>\n",
       "      <td>0</td>\n",
       "      <td>1</td>\n",
       "      <td>0</td>\n",
       "      <td>0</td>\n",
       "      <td>1</td>\n",
       "      <td>0</td>\n",
       "      <td>0</td>\n",
       "      <td>0</td>\n",
       "      <td>1</td>\n",
       "      <td>0</td>\n",
       "    </tr>\n",
       "    <tr>\n",
       "      <td>...</td>\n",
       "      <td>...</td>\n",
       "      <td>...</td>\n",
       "      <td>...</td>\n",
       "      <td>...</td>\n",
       "      <td>...</td>\n",
       "      <td>...</td>\n",
       "      <td>...</td>\n",
       "      <td>...</td>\n",
       "      <td>...</td>\n",
       "      <td>...</td>\n",
       "      <td>...</td>\n",
       "      <td>...</td>\n",
       "      <td>...</td>\n",
       "    </tr>\n",
       "    <tr>\n",
       "      <td>8517</td>\n",
       "      <td>178.8318</td>\n",
       "      <td>16</td>\n",
       "      <td>0</td>\n",
       "      <td>1</td>\n",
       "      <td>0</td>\n",
       "      <td>1</td>\n",
       "      <td>0</td>\n",
       "      <td>0</td>\n",
       "      <td>0</td>\n",
       "      <td>0</td>\n",
       "      <td>0</td>\n",
       "      <td>0</td>\n",
       "      <td>0</td>\n",
       "    </tr>\n",
       "    <tr>\n",
       "      <td>8519</td>\n",
       "      <td>108.1570</td>\n",
       "      <td>11</td>\n",
       "      <td>1</td>\n",
       "      <td>0</td>\n",
       "      <td>0</td>\n",
       "      <td>1</td>\n",
       "      <td>0</td>\n",
       "      <td>0</td>\n",
       "      <td>0</td>\n",
       "      <td>0</td>\n",
       "      <td>0</td>\n",
       "      <td>0</td>\n",
       "      <td>0</td>\n",
       "    </tr>\n",
       "    <tr>\n",
       "      <td>8520</td>\n",
       "      <td>85.1224</td>\n",
       "      <td>9</td>\n",
       "      <td>0</td>\n",
       "      <td>1</td>\n",
       "      <td>0</td>\n",
       "      <td>1</td>\n",
       "      <td>0</td>\n",
       "      <td>0</td>\n",
       "      <td>0</td>\n",
       "      <td>0</td>\n",
       "      <td>0</td>\n",
       "      <td>0</td>\n",
       "      <td>0</td>\n",
       "    </tr>\n",
       "    <tr>\n",
       "      <td>8521</td>\n",
       "      <td>103.1332</td>\n",
       "      <td>4</td>\n",
       "      <td>1</td>\n",
       "      <td>0</td>\n",
       "      <td>1</td>\n",
       "      <td>0</td>\n",
       "      <td>1</td>\n",
       "      <td>0</td>\n",
       "      <td>0</td>\n",
       "      <td>1</td>\n",
       "      <td>0</td>\n",
       "      <td>0</td>\n",
       "      <td>0</td>\n",
       "    </tr>\n",
       "    <tr>\n",
       "      <td>8522</td>\n",
       "      <td>75.4670</td>\n",
       "      <td>16</td>\n",
       "      <td>0</td>\n",
       "      <td>1</td>\n",
       "      <td>0</td>\n",
       "      <td>1</td>\n",
       "      <td>0</td>\n",
       "      <td>0</td>\n",
       "      <td>0</td>\n",
       "      <td>0</td>\n",
       "      <td>0</td>\n",
       "      <td>0</td>\n",
       "      <td>0</td>\n",
       "    </tr>\n",
       "  </tbody>\n",
       "</table>\n",
       "<p>6516 rows × 13 columns</p>\n",
       "</div>"
      ],
      "text/plain": [
       "      Item_MRP  Years_of_operation  Outlet_Size_Medium  Outlet_Size_Small  \\\n",
       "2     141.6180                  14                   1                  0   \n",
       "3     182.0950                  15                   1                  0   \n",
       "4      53.8614                  26                   0                  0   \n",
       "6      57.6588                  26                   0                  0   \n",
       "7     107.7622                  28                   1                  0   \n",
       "...        ...                 ...                 ...                ...   \n",
       "8517  178.8318                  16                   0                  1   \n",
       "8519  108.1570                  11                   1                  0   \n",
       "8520   85.1224                   9                   0                  1   \n",
       "8521  103.1332                   4                   1                  0   \n",
       "8522   75.4670                  16                   0                  1   \n",
       "\n",
       "      Outlet_Location_Type_Tier 3  Outlet_Type_Supermarket Type1  \\\n",
       "2                               0                              1   \n",
       "3                               1                              0   \n",
       "4                               1                              1   \n",
       "6                               1                              1   \n",
       "7                               1                              0   \n",
       "...                           ...                            ...   \n",
       "8517                            0                              1   \n",
       "8519                            0                              1   \n",
       "8520                            0                              1   \n",
       "8521                            1                              0   \n",
       "8522                            0                              1   \n",
       "\n",
       "      Outlet_Type_Supermarket Type2  Outlet_Type_Supermarket Type3  \\\n",
       "2                                 0                              0   \n",
       "3                                 0                              0   \n",
       "4                                 0                              0   \n",
       "6                                 0                              0   \n",
       "7                                 0                              1   \n",
       "...                             ...                            ...   \n",
       "8517                              0                              0   \n",
       "8519                              0                              0   \n",
       "8520                              0                              0   \n",
       "8521                              1                              0   \n",
       "8522                              0                              0   \n",
       "\n",
       "      Outlet_OUT013  Outlet_OUT018  Outlet_OUT019  Outlet_OUT027  \\\n",
       "2                 0              0              0              0   \n",
       "3                 0              0              0              0   \n",
       "4                 1              0              0              0   \n",
       "6                 1              0              0              0   \n",
       "7                 0              0              0              1   \n",
       "...             ...            ...            ...            ...   \n",
       "8517              0              0              0              0   \n",
       "8519              0              0              0              0   \n",
       "8520              0              0              0              0   \n",
       "8521              0              1              0              0   \n",
       "8522              0              0              0              0   \n",
       "\n",
       "      Outlet_OUT049  \n",
       "2                 1  \n",
       "3                 0  \n",
       "4                 0  \n",
       "6                 0  \n",
       "7                 0  \n",
       "...             ...  \n",
       "8517              0  \n",
       "8519              0  \n",
       "8520              0  \n",
       "8521              0  \n",
       "8522              0  \n",
       "\n",
       "[6516 rows x 13 columns]"
      ]
     },
     "execution_count": 414,
     "metadata": {},
     "output_type": "execute_result"
    }
   ],
   "source": [
    "## Automatic Backward Elimination Function\n",
    "# param x_ is independent values in pandas dataframe\n",
    "# param y_ is dependent value pandas series\n",
    "# param sl_ is significant level\n",
    "# return eliminated columns with less than significante level in pandas dataframe\n",
    "#\n",
    "def backwardElimination(x_, y_, sl_):\n",
    "    \n",
    "    for i in range(len(x_.columns)): # in range of the size of columns\n",
    "        x_test = sm.add_constant(x_) # adding constant to the dataframe for calculations\n",
    "        results = sm.OLS(y_,x_test).fit() # fitting the model using statsmodels\n",
    "        #results.summary() # summary descriptions of the model\n",
    "        \n",
    "        max_p_value = max(results.pvalues) # getting the maxiumum p-value from all columns\n",
    "        \n",
    "        if max_p_value > sl_: # if maximum p-value is more than significante level\n",
    "            column_to_drop = results.pvalues.idxmax() # assigning column name to variable using 'idxmax()' method, so it can be drop\n",
    "            x_ = x_.drop(column_to_drop, axis = 1) # dropping column\n",
    "    return x_\n",
    "\n",
    "#Getting only optimum features \n",
    "X_optim = backwardElimination(X_train_data, new_y4, 0.01)\n",
    "X_optim"
   ]
  },
  {
   "cell_type": "markdown",
   "metadata": {},
   "source": [
    "### Modeling"
   ]
  },
  {
   "cell_type": "markdown",
   "metadata": {},
   "source": [
    "#### 1. Linear Regression"
   ]
  },
  {
   "cell_type": "code",
   "execution_count": 345,
   "metadata": {},
   "outputs": [
    {
     "data": {
      "text/plain": [
       "1121.394251336875"
      ]
     },
     "execution_count": 345,
     "metadata": {},
     "output_type": "execute_result"
    }
   ],
   "source": [
    "def score(X, y):\n",
    "    # Splitting dataset into Training and Test set\n",
    "    from sklearn.model_selection import train_test_split\n",
    "    X_train, X_test, y_train, y_test = train_test_split(X, y, test_size = 0.2, random_state = 1)\n",
    "    \n",
    "    # Fitting Multiple Linear Regression to the Training set\n",
    "    from sklearn.linear_model import LinearRegression\n",
    "    regressor = LinearRegression()\n",
    "    regressor.fit(X_train, y_train)\n",
    "    prediction  = regressor.predict(X_test)\n",
    "    \n",
    "    #Result of RMSE\n",
    "    from sklearn import metrics\n",
    "    result  = np.sqrt(metrics.mean_squared_error(y_test, prediction))\n",
    "    \n",
    "    return result\n",
    "\n",
    "#Scoring\n",
    "score(X_optim, new_y4)\n",
    "# 1121.394251336875"
   ]
  },
  {
   "cell_type": "markdown",
   "metadata": {},
   "source": [
    "#### 2. Polynomial Regression"
   ]
  },
  {
   "cell_type": "code",
   "execution_count": 415,
   "metadata": {},
   "outputs": [
    {
     "data": {
      "text/plain": [
       "1077.5153790327213"
      ]
     },
     "execution_count": 415,
     "metadata": {},
     "output_type": "execute_result"
    }
   ],
   "source": [
    "def poly_score(X, y, degree):\n",
    "    import numpy as np\n",
    "    \n",
    "    # Splitting dataset into Training and Test set\n",
    "    from sklearn.model_selection import train_test_split\n",
    "    X_train1, X_test1, y_train1, y_test1 = train_test_split(X, y, test_size = 0.2, random_state = 1)\n",
    "    \n",
    "    from sklearn.preprocessing import PolynomialFeatures\n",
    "    poly_reg = PolynomialFeatures(degree=degree)\n",
    "    X_poly1 = poly_reg.fit_transform(X_train1)\n",
    "    \n",
    "    # Fitting Multiple Linear Regression to the Training set\n",
    "    from sklearn.linear_model import LinearRegression    \n",
    "    lin_reg = LinearRegression()\n",
    "    lin_reg.fit(X_poly1, y_train1)\n",
    "    \n",
    "    prediction = lin_reg.predict(poly_reg.fit_transform(X_test1))\n",
    "    \n",
    "    #Result of RMSE\n",
    "    from sklearn import metrics\n",
    "    result  = np.sqrt(metrics.mean_squared_error(y_test1, prediction))\n",
    "    \n",
    "    return result\n",
    "\n",
    "#Scoring\n",
    "poly_score(X_optim, new_y4, 2)"
   ]
  },
  {
   "cell_type": "markdown",
   "metadata": {},
   "source": [
    "#### 3. Support Vector Regression"
   ]
  },
  {
   "cell_type": "code",
   "execution_count": 352,
   "metadata": {},
   "outputs": [
    {
     "name": "stderr",
     "output_type": "stream",
     "text": [
      "/Users/berayhayrulah/opt/anaconda3/lib/python3.7/site-packages/sklearn/utils/validation.py:724: DataConversionWarning: A column-vector y was passed when a 1d array was expected. Please change the shape of y to (n_samples, ), for example using ravel().\n",
      "  y = column_or_1d(y, warn=True)\n",
      "/Users/berayhayrulah/opt/anaconda3/lib/python3.7/site-packages/sklearn/svm/base.py:193: FutureWarning: The default value of gamma will change from 'auto' to 'scale' in version 0.22 to account better for unscaled features. Set gamma explicitly to 'auto' or 'scale' to avoid this warning.\n",
      "  \"avoid this warning.\", FutureWarning)\n"
     ]
    },
    {
     "data": {
      "text/plain": [
       "2168.684832410549"
      ]
     },
     "execution_count": 352,
     "metadata": {},
     "output_type": "execute_result"
    }
   ],
   "source": [
    "def svr_score(X, y):\n",
    "    \n",
    "    # Feature Scaling\n",
    "    from sklearn.preprocessing import StandardScaler\n",
    "    sc_X = StandardScaler()\n",
    "    sc_y = StandardScaler()\n",
    "    \n",
    "    X_sc = sc_X.fit_transform(X)\n",
    "    y_sc = sc_y.fit_transform(y.values.reshape(-1,1))\n",
    "    \n",
    "    # Splitting dataset into Training and Test set\n",
    "    from sklearn.model_selection import train_test_split\n",
    "    X_train, X_test, y_train, y_test = train_test_split(X_sc, y_sc, test_size = 0.2, random_state = 1)\n",
    "    \n",
    "    # Reshaping X and y to make 2D array\n",
    "    #X1 = X.values.reshape(-1,1)\n",
    "    #y1 = y.values.reshape(-1,1)\n",
    "    \n",
    "    \n",
    "    # Fitting SVR to the dataset\n",
    "    from sklearn.svm import SVR\n",
    "    regressor = SVR(kernel = 'rbf')\n",
    "    regressor.fit(X_train,y_train)\n",
    "    \n",
    "    # Predicting a new result\n",
    "    prediction = sc_y.inverse_transform(regressor.predict(sc_X.transform(X_test)))\n",
    "    \n",
    "    #Result of RMSE\n",
    "    from sklearn import metrics\n",
    "    result  = np.sqrt(metrics.mean_squared_error(y_test, prediction))\n",
    "    \n",
    "    return result\n",
    "\n",
    "#Scoring\n",
    "svr_score(X_optim, new_y4)"
   ]
  },
  {
   "cell_type": "markdown",
   "metadata": {},
   "source": [
    "#### 4. Random Forest Regression"
   ]
  },
  {
   "cell_type": "code",
   "execution_count": 404,
   "metadata": {},
   "outputs": [
    {
     "data": {
      "text/plain": [
       "1084.5714688943247"
      ]
     },
     "execution_count": 404,
     "metadata": {},
     "output_type": "execute_result"
    }
   ],
   "source": [
    "def random_forest_score(X, y):\n",
    "    \n",
    "    # Splitting dataset into Training and Test set\n",
    "    from sklearn.model_selection import train_test_split\n",
    "    X_train, X_test, y_train, y_test = train_test_split(X, y, test_size = 0.2, random_state = 1)\n",
    "    \n",
    "    # Fitting Random Forest Regression to the dataset\n",
    "    from sklearn.ensemble import RandomForestRegressor\n",
    "    regressor = RandomForestRegressor(n_estimators = 70, random_state = 1, max_depth=5, min_samples_leaf=30)\n",
    "    regressor.fit(X_train, y_train)\n",
    "    \n",
    "    # Predicting a new result\n",
    "    prediction = regressor.predict(X_test)\n",
    "    \n",
    "    #Result of RMSE\n",
    "    from sklearn import metrics\n",
    "    result  = np.sqrt(metrics.mean_squared_error(y_test, prediction))\n",
    "    \n",
    "    return result\n",
    "\n",
    "#Scoring\n",
    "random_forest_score(X_optim, new_y4)\n"
   ]
  },
  {
   "cell_type": "markdown",
   "metadata": {},
   "source": [
    "#### 5. XGBoost"
   ]
  },
  {
   "cell_type": "code",
   "execution_count": 374,
   "metadata": {},
   "outputs": [
    {
     "name": "stderr",
     "output_type": "stream",
     "text": [
      "/Users/berayhayrulah/opt/anaconda3/lib/python3.7/site-packages/xgboost/core.py:587: FutureWarning: Series.base is deprecated and will be removed in a future version\n",
      "  if getattr(data, 'base', None) is not None and \\\n"
     ]
    },
    {
     "name": "stdout",
     "output_type": "stream",
     "text": [
      "[02:20:07] WARNING: src/objective/regression_obj.cu:152: reg:linear is now deprecated in favor of reg:squarederror.\n"
     ]
    },
    {
     "data": {
      "text/plain": [
       "1091.290626331137"
      ]
     },
     "execution_count": 374,
     "metadata": {},
     "output_type": "execute_result"
    }
   ],
   "source": [
    "def xgboost(X, y):\n",
    "    \n",
    "    # Splitting dataset into Training and Test set\n",
    "    from sklearn.model_selection import train_test_split\n",
    "    X_train, X_test, y_train, y_test = train_test_split(X, y, test_size = 0.2, random_state = 1)\n",
    "    \n",
    "    import xgboost as xgb\n",
    "    model = xgb.XGBRegressor(max_depth=4, n_estimators=60, learning_rate=0.09)\n",
    "\n",
    "    model.fit(X_train,y_train)\n",
    "    \n",
    "    prediction = model.predict(data=X_test)\n",
    "    \n",
    "    #Result of RMSE\n",
    "    from sklearn import metrics\n",
    "    result  = np.sqrt(metrics.mean_squared_error(y_test, prediction))\n",
    "    \n",
    "    return result\n",
    "\n",
    "#Scoring\n",
    "xgboost(X_optim, new_y4)"
   ]
  },
  {
   "cell_type": "markdown",
   "metadata": {},
   "source": [
    "NOTE: The Best Scores:\n",
    "1. Polynomial Regression:       1077.517832206261\n",
    "2. Random Forest Regression:    1084.5714688943247\n",
    "3. XGBoost:                     1091.290626331137\n",
    "4. Linear Regression:           1121.394251336875\n",
    "5. Support Vector Regression:   2168.684832410549"
   ]
  },
  {
   "cell_type": "markdown",
   "metadata": {},
   "source": [
    "### Predicting Test Data"
   ]
  },
  {
   "cell_type": "markdown",
   "metadata": {},
   "source": [
    "#### Choosing the best Model score - Polynomial Regression"
   ]
  },
  {
   "cell_type": "code",
   "execution_count": 429,
   "metadata": {},
   "outputs": [
    {
     "data": {
      "text/plain": [
       "1084.4816665297728"
      ]
     },
     "execution_count": 429,
     "metadata": {},
     "output_type": "execute_result"
    }
   ],
   "source": [
    "\n",
    "import numpy as np\n",
    "    \n",
    "# Splitting dataset into Training and Test set\n",
    "from sklearn.model_selection import train_test_split\n",
    "X_train1, X_test1, y_train1, y_test1 = train_test_split(X_train_data, new_y4, test_size = 0.2, random_state = 1)\n",
    "    \n",
    "from sklearn.preprocessing import PolynomialFeatures\n",
    "poly_reg = PolynomialFeatures(degree=2)\n",
    "X_poly1 = poly_reg.fit_transform(X_train1)\n",
    "    \n",
    "# Fitting Multiple Linear Regression to the Training set\n",
    "from sklearn.linear_model import LinearRegression    \n",
    "lin_reg = LinearRegression(normalize = True)\n",
    "lin_reg.fit(X_poly1, y_train1)\n",
    "    \n",
    "prediction = lin_reg.predict(poly_reg.fit_transform(X_test1))\n",
    "    \n",
    "#Result of RMSE\n",
    "    \n",
    "from sklearn import metrics\n",
    "result  = np.sqrt(metrics.mean_squared_error(y_test1, prediction))\n",
    "\n",
    "result"
   ]
  },
  {
   "cell_type": "code",
   "execution_count": 436,
   "metadata": {},
   "outputs": [
    {
     "data": {
      "text/plain": [
       "4339"
      ]
     },
     "execution_count": 436,
     "metadata": {},
     "output_type": "execute_result"
    }
   ],
   "source": [
    "#Predicting Test data\n",
    "test_prediction = lin_reg.predict(poly_reg.transform(test_data))\n",
    "len(test_prediction)"
   ]
  },
  {
   "cell_type": "code",
   "execution_count": 437,
   "metadata": {},
   "outputs": [
    {
     "name": "stderr",
     "output_type": "stream",
     "text": [
      "/Users/berayhayrulah/opt/anaconda3/lib/python3.7/site-packages/ipykernel_launcher.py:4: SettingWithCopyWarning: \n",
      "A value is trying to be set on a copy of a slice from a DataFrame.\n",
      "Try using .loc[row_indexer,col_indexer] = value instead\n",
      "\n",
      "See the caveats in the documentation: http://pandas.pydata.org/pandas-docs/stable/user_guide/indexing.html#returning-a-view-versus-a-copy\n",
      "  after removing the cwd from sys.path.\n"
     ]
    }
   ],
   "source": [
    "#Define a dataframe with IDs for submission:\n",
    "base0 = X_imputed_out_2[X_imputed_out_2.source == 'test']\n",
    "base1 = base0[['Item_Identifier', 'Outlet_Identifier']]\n",
    "base1['Item_Outlet_Sales'] = test_prediction\n",
    "\n",
    "#Export submission file\n",
    "base1.to_csv(\"Big_Mart_Predictions.csv\",index=False)"
   ]
  },
  {
   "cell_type": "code",
   "execution_count": null,
   "metadata": {},
   "outputs": [],
   "source": []
  },
  {
   "cell_type": "code",
   "execution_count": null,
   "metadata": {},
   "outputs": [],
   "source": []
  }
 ],
 "metadata": {
  "kernelspec": {
   "display_name": "Python 3",
   "language": "python",
   "name": "python3"
  },
  "language_info": {
   "codemirror_mode": {
    "name": "ipython",
    "version": 3
   },
   "file_extension": ".py",
   "mimetype": "text/x-python",
   "name": "python",
   "nbconvert_exporter": "python",
   "pygments_lexer": "ipython3",
   "version": "3.7.4"
  }
 },
 "nbformat": 4,
 "nbformat_minor": 2
}
